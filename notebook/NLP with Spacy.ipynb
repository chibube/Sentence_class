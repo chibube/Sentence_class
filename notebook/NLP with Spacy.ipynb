{
 "cells": [
  {
   "cell_type": "markdown",
   "id": "53434596",
   "metadata": {},
   "source": [
    "### NLP Using Spacy\n"
   ]
  },
  {
   "cell_type": "markdown",
   "id": "b40a8c40",
   "metadata": {},
   "source": [
    "#### 1. Import Relevant Libraries"
   ]
  },
  {
   "cell_type": "code",
   "execution_count": 1,
   "id": "54c4e41a",
   "metadata": {},
   "outputs": [
    {
     "name": "stderr",
     "output_type": "stream",
     "text": [
      "[nltk_data] Downloading package stopwords to C:\\Users\\HP\n",
      "[nltk_data]     OMEN\\AppData\\Roaming\\nltk_data...\n",
      "[nltk_data]   Package stopwords is already up-to-date!\n"
     ]
    },
    {
     "data": {
      "text/plain": [
       "True"
      ]
     },
     "execution_count": 1,
     "metadata": {},
     "output_type": "execute_result"
    }
   ],
   "source": [
    "#loading relevant libraries\n",
    "import numpy as np\n",
    "import re\n",
    "import pickle\n",
    "import nltk\n",
    "from nltk.corpus import stopwords\n",
    "from sklearn.datasets import load_files\n",
    "nltk.download('stopwords')"
   ]
  },
  {
   "cell_type": "markdown",
   "id": "85cc4be2",
   "metadata": {},
   "source": [
    "#### 2. Loading training data"
   ]
  },
  {
   "cell_type": "code",
   "execution_count": 2,
   "id": "aaf2e2b2",
   "metadata": {},
   "outputs": [],
   "source": [
    "import pandas as pd\n",
    "df = pd.read_csv(\"Dataset-SA/Dataset-SA.csv\")"
   ]
  },
  {
   "cell_type": "code",
   "execution_count": 3,
   "id": "a8d6348f",
   "metadata": {},
   "outputs": [
    {
     "data": {
      "text/html": [
       "<div>\n",
       "<style scoped>\n",
       "    .dataframe tbody tr th:only-of-type {\n",
       "        vertical-align: middle;\n",
       "    }\n",
       "\n",
       "    .dataframe tbody tr th {\n",
       "        vertical-align: top;\n",
       "    }\n",
       "\n",
       "    .dataframe thead th {\n",
       "        text-align: right;\n",
       "    }\n",
       "</style>\n",
       "<table border=\"1\" class=\"dataframe\">\n",
       "  <thead>\n",
       "    <tr style=\"text-align: right;\">\n",
       "      <th></th>\n",
       "      <th>product_name</th>\n",
       "      <th>product_price</th>\n",
       "      <th>Rate</th>\n",
       "      <th>Review</th>\n",
       "      <th>Summary</th>\n",
       "      <th>Sentiment</th>\n",
       "    </tr>\n",
       "  </thead>\n",
       "  <tbody>\n",
       "    <tr>\n",
       "      <th>0</th>\n",
       "      <td>Candes 12 L Room/Personal Air Cooler??????(Whi...</td>\n",
       "      <td>3999</td>\n",
       "      <td>5</td>\n",
       "      <td>super!</td>\n",
       "      <td>great cooler excellent air flow and for this p...</td>\n",
       "      <td>positive</td>\n",
       "    </tr>\n",
       "    <tr>\n",
       "      <th>1</th>\n",
       "      <td>Candes 12 L Room/Personal Air Cooler??????(Whi...</td>\n",
       "      <td>3999</td>\n",
       "      <td>5</td>\n",
       "      <td>awesome</td>\n",
       "      <td>best budget 2 fit cooler nice cooling</td>\n",
       "      <td>positive</td>\n",
       "    </tr>\n",
       "    <tr>\n",
       "      <th>2</th>\n",
       "      <td>Candes 12 L Room/Personal Air Cooler??????(Whi...</td>\n",
       "      <td>3999</td>\n",
       "      <td>3</td>\n",
       "      <td>fair</td>\n",
       "      <td>the quality is good but the power of air is de...</td>\n",
       "      <td>positive</td>\n",
       "    </tr>\n",
       "    <tr>\n",
       "      <th>3</th>\n",
       "      <td>Candes 12 L Room/Personal Air Cooler??????(Whi...</td>\n",
       "      <td>3999</td>\n",
       "      <td>1</td>\n",
       "      <td>useless product</td>\n",
       "      <td>very bad product its a only a fan</td>\n",
       "      <td>negative</td>\n",
       "    </tr>\n",
       "    <tr>\n",
       "      <th>4</th>\n",
       "      <td>Candes 12 L Room/Personal Air Cooler??????(Whi...</td>\n",
       "      <td>3999</td>\n",
       "      <td>3</td>\n",
       "      <td>fair</td>\n",
       "      <td>ok ok product</td>\n",
       "      <td>neutral</td>\n",
       "    </tr>\n",
       "  </tbody>\n",
       "</table>\n",
       "</div>"
      ],
      "text/plain": [
       "                                        product_name product_price Rate  \\\n",
       "0  Candes 12 L Room/Personal Air Cooler??????(Whi...          3999    5   \n",
       "1  Candes 12 L Room/Personal Air Cooler??????(Whi...          3999    5   \n",
       "2  Candes 12 L Room/Personal Air Cooler??????(Whi...          3999    3   \n",
       "3  Candes 12 L Room/Personal Air Cooler??????(Whi...          3999    1   \n",
       "4  Candes 12 L Room/Personal Air Cooler??????(Whi...          3999    3   \n",
       "\n",
       "            Review                                            Summary  \\\n",
       "0           super!  great cooler excellent air flow and for this p...   \n",
       "1          awesome              best budget 2 fit cooler nice cooling   \n",
       "2             fair  the quality is good but the power of air is de...   \n",
       "3  useless product                  very bad product its a only a fan   \n",
       "4             fair                                      ok ok product   \n",
       "\n",
       "  Sentiment  \n",
       "0  positive  \n",
       "1  positive  \n",
       "2  positive  \n",
       "3  negative  \n",
       "4   neutral  "
      ]
     },
     "execution_count": 3,
     "metadata": {},
     "output_type": "execute_result"
    }
   ],
   "source": [
    "df.head()"
   ]
  },
  {
   "cell_type": "markdown",
   "id": "1c289ba8",
   "metadata": {},
   "source": [
    "#### 3. Data Preparation & Cleaning"
   ]
  },
  {
   "cell_type": "markdown",
   "id": "2e124207",
   "metadata": {},
   "source": [
    "We are interested in the Reviews (Summary) and the sentiment features. We will need to encode our sentiment and for this project we will only consider the positive and negative sentiments."
   ]
  },
  {
   "cell_type": "code",
   "execution_count": 5,
   "id": "a7cb523b",
   "metadata": {},
   "outputs": [
    {
     "data": {
      "text/plain": [
       "positive    166581\n",
       "negative     28232\n",
       "neutral      10239\n",
       "Name: Sentiment, dtype: int64"
      ]
     },
     "execution_count": 5,
     "metadata": {},
     "output_type": "execute_result"
    }
   ],
   "source": [
    "#let's check for balance of our target values\n",
    "df['Sentiment'].value_counts()"
   ]
  },
  {
   "cell_type": "markdown",
   "id": "0f34df13",
   "metadata": {},
   "source": [
    "From the above we can see that the number of positive reviews is more than all the other reviews. For this project we will drop the neutral reviews and take an equal number of positive & negative reviews for our training data."
   ]
  },
  {
   "cell_type": "code",
   "execution_count": 6,
   "id": "73748978",
   "metadata": {},
   "outputs": [],
   "source": [
    "positive = df[df['Sentiment'] == \"positive\"][0:28232]"
   ]
  },
  {
   "cell_type": "code",
   "execution_count": 7,
   "id": "2bf77752",
   "metadata": {},
   "outputs": [],
   "source": [
    "negative = df[df['Sentiment'] == \"negative\"]"
   ]
  },
  {
   "cell_type": "code",
   "execution_count": 8,
   "id": "b7f5fc10",
   "metadata": {},
   "outputs": [],
   "source": [
    "#joining the positive and negative review data\n",
    "data = pd.concat([positive, negative], axis=0)"
   ]
  },
  {
   "cell_type": "code",
   "execution_count": 9,
   "id": "c23e942f",
   "metadata": {},
   "outputs": [
    {
     "name": "stdout",
     "output_type": "stream",
     "text": [
      "<class 'pandas.core.frame.DataFrame'>\n",
      "Int64Index: 56464 entries, 0 to 205032\n",
      "Data columns (total 6 columns):\n",
      " #   Column         Non-Null Count  Dtype \n",
      "---  ------         --------------  ----- \n",
      " 0   product_name   56464 non-null  object\n",
      " 1   product_price  56464 non-null  object\n",
      " 2   Rate           56464 non-null  object\n",
      " 3   Review         52633 non-null  object\n",
      " 4   Summary        56462 non-null  object\n",
      " 5   Sentiment      56464 non-null  object\n",
      "dtypes: object(6)\n",
      "memory usage: 3.0+ MB\n"
     ]
    }
   ],
   "source": [
    "\n",
    "data.info()"
   ]
  },
  {
   "cell_type": "markdown",
   "id": "13d9e450",
   "metadata": {},
   "source": [
    "Our computer only understands numbers hence we will map our sentiment column to one for positive reviews and 0 for negative reviews"
   ]
  },
  {
   "cell_type": "code",
   "execution_count": 10,
   "id": "953a1816",
   "metadata": {},
   "outputs": [],
   "source": [
    "data['target'] = data['Sentiment'].map({'positive':1, 'negative':0})"
   ]
  },
  {
   "cell_type": "code",
   "execution_count": 11,
   "id": "d3e4dd70",
   "metadata": {},
   "outputs": [
    {
     "data": {
      "text/html": [
       "<div>\n",
       "<style scoped>\n",
       "    .dataframe tbody tr th:only-of-type {\n",
       "        vertical-align: middle;\n",
       "    }\n",
       "\n",
       "    .dataframe tbody tr th {\n",
       "        vertical-align: top;\n",
       "    }\n",
       "\n",
       "    .dataframe thead th {\n",
       "        text-align: right;\n",
       "    }\n",
       "</style>\n",
       "<table border=\"1\" class=\"dataframe\">\n",
       "  <thead>\n",
       "    <tr style=\"text-align: right;\">\n",
       "      <th></th>\n",
       "      <th>product_name</th>\n",
       "      <th>product_price</th>\n",
       "      <th>Rate</th>\n",
       "      <th>Review</th>\n",
       "      <th>Summary</th>\n",
       "      <th>Sentiment</th>\n",
       "      <th>target</th>\n",
       "    </tr>\n",
       "  </thead>\n",
       "  <tbody>\n",
       "    <tr>\n",
       "      <th>0</th>\n",
       "      <td>Candes 12 L Room/Personal Air Cooler??????(Whi...</td>\n",
       "      <td>3999</td>\n",
       "      <td>5</td>\n",
       "      <td>super!</td>\n",
       "      <td>great cooler excellent air flow and for this p...</td>\n",
       "      <td>positive</td>\n",
       "      <td>1</td>\n",
       "    </tr>\n",
       "    <tr>\n",
       "      <th>1</th>\n",
       "      <td>Candes 12 L Room/Personal Air Cooler??????(Whi...</td>\n",
       "      <td>3999</td>\n",
       "      <td>5</td>\n",
       "      <td>awesome</td>\n",
       "      <td>best budget 2 fit cooler nice cooling</td>\n",
       "      <td>positive</td>\n",
       "      <td>1</td>\n",
       "    </tr>\n",
       "    <tr>\n",
       "      <th>2</th>\n",
       "      <td>Candes 12 L Room/Personal Air Cooler??????(Whi...</td>\n",
       "      <td>3999</td>\n",
       "      <td>3</td>\n",
       "      <td>fair</td>\n",
       "      <td>the quality is good but the power of air is de...</td>\n",
       "      <td>positive</td>\n",
       "      <td>1</td>\n",
       "    </tr>\n",
       "    <tr>\n",
       "      <th>5</th>\n",
       "      <td>Candes 12 L Room/Personal Air Cooler??????(Whi...</td>\n",
       "      <td>3999</td>\n",
       "      <td>5</td>\n",
       "      <td>awesome</td>\n",
       "      <td>the cooler is really fantastic and provides go...</td>\n",
       "      <td>positive</td>\n",
       "      <td>1</td>\n",
       "    </tr>\n",
       "    <tr>\n",
       "      <th>6</th>\n",
       "      <td>Candes 12 L Room/Personal Air Cooler??????(Whi...</td>\n",
       "      <td>3999</td>\n",
       "      <td>5</td>\n",
       "      <td>highly recommended</td>\n",
       "      <td>very good product</td>\n",
       "      <td>positive</td>\n",
       "      <td>1</td>\n",
       "    </tr>\n",
       "  </tbody>\n",
       "</table>\n",
       "</div>"
      ],
      "text/plain": [
       "                                        product_name product_price Rate  \\\n",
       "0  Candes 12 L Room/Personal Air Cooler??????(Whi...          3999    5   \n",
       "1  Candes 12 L Room/Personal Air Cooler??????(Whi...          3999    5   \n",
       "2  Candes 12 L Room/Personal Air Cooler??????(Whi...          3999    3   \n",
       "5  Candes 12 L Room/Personal Air Cooler??????(Whi...          3999    5   \n",
       "6  Candes 12 L Room/Personal Air Cooler??????(Whi...          3999    5   \n",
       "\n",
       "               Review                                            Summary  \\\n",
       "0              super!  great cooler excellent air flow and for this p...   \n",
       "1             awesome              best budget 2 fit cooler nice cooling   \n",
       "2                fair  the quality is good but the power of air is de...   \n",
       "5             awesome  the cooler is really fantastic and provides go...   \n",
       "6  highly recommended                                  very good product   \n",
       "\n",
       "  Sentiment  target  \n",
       "0  positive       1  \n",
       "1  positive       1  \n",
       "2  positive       1  \n",
       "5  positive       1  \n",
       "6  positive       1  "
      ]
     },
     "execution_count": 11,
     "metadata": {},
     "output_type": "execute_result"
    }
   ],
   "source": [
    "data.head()"
   ]
  },
  {
   "cell_type": "code",
   "execution_count": 12,
   "id": "987539b4",
   "metadata": {},
   "outputs": [],
   "source": [
    "#as stated earlier we only need our Summary and target features\n",
    "data = data[['Summary', 'target']]"
   ]
  },
  {
   "cell_type": "code",
   "execution_count": 13,
   "id": "675ae1f2",
   "metadata": {},
   "outputs": [
    {
     "data": {
      "text/plain": [
       "1    28232\n",
       "0    28232\n",
       "Name: target, dtype: int64"
      ]
     },
     "execution_count": 13,
     "metadata": {},
     "output_type": "execute_result"
    }
   ],
   "source": [
    "data['target'].value_counts()"
   ]
  },
  {
   "cell_type": "markdown",
   "id": "91bd96f0",
   "metadata": {},
   "source": [
    "#### 4. Installing Our spacy vectorizer & Vectorizing our text"
   ]
  },
  {
   "cell_type": "code",
   "execution_count": null,
   "id": "d151facb",
   "metadata": {},
   "outputs": [],
   "source": [
    "!pip install spacy\n",
    "#installing the spacy package in our virtual environment "
   ]
  },
  {
   "cell_type": "code",
   "execution_count": 14,
   "id": "36b8065a",
   "metadata": {
    "scrolled": true
   },
   "outputs": [],
   "source": [
    "import spacy"
   ]
  },
  {
   "cell_type": "code",
   "execution_count": null,
   "id": "b9eb39ab",
   "metadata": {
    "scrolled": true
   },
   "outputs": [],
   "source": [
    "!python -m spacy download en_core_web_lg\n",
    "#downloading the large spacy library"
   ]
  },
  {
   "cell_type": "code",
   "execution_count": 15,
   "id": "41f89f8c",
   "metadata": {},
   "outputs": [],
   "source": [
    "#initializing spacy and loading a large model that has word vectors to convert our text into vectors\n",
    "vectorizer = spacy.load(\"en_core_web_lg\")\n"
   ]
  },
  {
   "cell_type": "code",
   "execution_count": 16,
   "id": "7f555d6c",
   "metadata": {
    "collapsed": true
   },
   "outputs": [
    {
     "data": {
      "text/plain": [
       "array([ 5.4856664e-01,  7.5831342e-01, -6.2819333e+00, -5.6275001e+00,\n",
       "       -8.2746401e+00,  5.3333282e-02,  9.5883322e-01,  2.7246034e+00,\n",
       "       -7.3242664e+00,  7.4066663e+00,  7.7700334e+00,  2.1358335e+00,\n",
       "       -6.4710402e+00, -3.2076669e-01,  4.9224668e+00, -5.1614666e+00,\n",
       "        3.8421535e+00, -8.5877666e+00, -2.6871998e+00,  7.6546663e-01,\n",
       "        2.9816034e+00,  2.8566668e+00,  7.3543328e-01, -8.5770006e+00,\n",
       "       -4.8483336e-01, -2.2024300e+00, -1.3333334e+00,  3.5360000e+00,\n",
       "       -1.6272532e+00,  9.8620337e-01,  4.0916666e-01, -5.2569666e+00,\n",
       "       -5.1800013e-02,  2.2076566e+00,  5.2794003e+00, -4.9555001e-01,\n",
       "       -1.8044467e+00, -2.5639334e-01,  6.3855000e+00,  9.8912269e-01,\n",
       "       -2.0281901e+00,  5.3624001e+00,  2.2340868e+00, -3.1247399e+00,\n",
       "        3.0864766e+00,  4.1481667e+00, -3.0569334e+00, -5.6166000e+00,\n",
       "        1.3551198e+00,  2.6157568e+00,  1.2546000e+00, -2.6840966e+00,\n",
       "        3.9365670e-01, -3.5257666e+00, -5.1567836e+00, -1.6843634e+00,\n",
       "        2.1196766e+00,  2.4759333e+00,  1.4957668e+00,  3.0015831e+00,\n",
       "        7.8854671e+00, -2.4482965e+00, -1.3693000e+00, -1.5268334e+00,\n",
       "       -3.8640335e+00,  5.0033337e-01, -2.5856464e+00, -5.6384664e+00,\n",
       "        3.0663669e+00,  6.3947334e+00, -9.5283335e-01,  4.1608334e+00,\n",
       "        2.4783666e+00, -3.0012798e+00,  5.9840665e+00,  3.0298331e+00,\n",
       "       -2.4869859e+00, -8.8366669e-01, -2.3276665e+00, -6.2940001e+00,\n",
       "       -2.4932334e+00, -8.5966665e-01,  8.0150671e+00, -2.9419003e+00,\n",
       "       -1.2941568e-01, -9.2155004e-01,  1.5488334e-01,  2.7573330e+00,\n",
       "       -7.1913338e-01, -3.7062967e+00,  9.3083328e-01,  2.5871799e+00,\n",
       "        3.6077001e+00, -8.5486670e+00, -7.0430666e-01, -3.1661003e+00,\n",
       "        9.0542334e-01, -4.4686999e+00,  4.2601666e-01, -2.0531166e+00,\n",
       "        1.2612200e+00,  5.1212001e+00, -3.1424668e-01,  1.1804034e+00,\n",
       "       -6.0599136e+00,  2.0029466e+00, -4.6910334e+00,  2.0704901e+00,\n",
       "       -4.3497000e+00,  1.3349000e+00, -1.0875833e+00, -6.7994003e+00,\n",
       "        5.1929264e+00, -2.4138000e+00,  7.8296667e-01,  2.3011234e+00,\n",
       "       -2.9922667e+00, -4.9622002e+00,  2.3494666e+00,  9.1339999e-01,\n",
       "       -4.6833997e+00,  9.7040004e-01, -7.5039001e+00,  3.6700830e+00,\n",
       "       -3.7168631e-01,  1.7191267e+00,  5.7315669e+00, -2.6990998e+00,\n",
       "       -1.3874333e-01, -6.6057998e-01, -1.7568660e-01,  1.8207002e+00,\n",
       "        1.9243670e-01, -3.1803732e+00, -1.4003433e+00,  3.0027435e+00,\n",
       "       -4.1013832e+00, -3.2138464e+00,  8.0434999e+00, -5.1493335e+00,\n",
       "       -3.2312000e+00, -2.7000007e-01,  3.4566002e+00,  1.6692667e+00,\n",
       "       -8.1952772e+00, -2.0925667e+00,  8.7999105e-03,  1.1376734e+00,\n",
       "       -5.7916331e+00, -5.0881867e+00, -4.0719466e+00,  2.2225666e+00,\n",
       "       -3.1245930e+00, -2.5010636e+00, -3.5423335e-01,  8.0316657e-01,\n",
       "        5.1708164e+00,  3.1600997e-01, -7.6320004e-01, -1.1475333e+00,\n",
       "       -1.5710834e+00, -6.4609337e+00, -5.6315331e+00,  5.3216666e-01,\n",
       "       -2.0202901e+00,  2.0999401e+00, -1.4372500e+00, -4.1531673e-01,\n",
       "       -4.7036667e+00,  7.1020794e-01,  2.6758301e+00, -1.5803499e+00,\n",
       "       -2.3614800e+00,  4.5707664e+00,  6.7361336e+00, -6.4152503e+00,\n",
       "       -4.8703003e+00,  1.2420999e+00,  2.5388534e+00, -1.5072333e+00,\n",
       "        1.0486001e+00, -4.6535659e-01,  8.1458330e+00, -2.9861200e+00,\n",
       "       -2.5581667e+00,  5.0598335e+00,  4.7267666e-01, -7.8251328e+00,\n",
       "        4.3384337e+00,  5.5652671e+00, -2.3844931e+00,  4.9956002e+00,\n",
       "       -5.2835002e+00,  1.0683999e+00, -1.8990999e+00, -2.2912667e+00,\n",
       "       -6.5507665e+00,  2.7468002e+00, -3.8129666e+00,  5.8840003e+00,\n",
       "       -2.6729000e+00,  5.3933382e-02, -4.6421666e+00,  9.7071666e-01,\n",
       "       -5.0376334e+00, -2.2577000e+00,  4.8844037e+00, -1.4117666e+00,\n",
       "       -2.2338963e-01, -2.1216333e+00,  3.8342435e+00, -8.2682663e-01,\n",
       "        3.6693335e+00,  3.3880234e+00, -4.7892666e+00,  3.2072666e+00,\n",
       "       -4.2845335e+00,  1.3952999e+00, -4.1606665e-01,  2.4970002e-01,\n",
       "       -1.1659001e+00,  2.0879667e-01, -8.7217069e-01,  5.9207330e+00,\n",
       "        3.3836002e+00, -3.2572000e+00, -1.0365400e+00,  1.0017601e+00,\n",
       "        3.2851534e+00,  1.9308333e+00, -1.0945000e+01, -4.9705334e+00,\n",
       "        9.8406667e-01, -3.5723333e+00, -1.0279633e+00,  2.2728066e+00,\n",
       "       -5.7802005e+00,  9.1223001e+00,  6.8748969e-01, -1.7526032e+00,\n",
       "       -8.9968176e+00, -3.0844333e+00,  2.3199165e+00,  6.8646336e-01,\n",
       "        5.3364005e+00, -1.6223335e+00,  5.4899931e-02, -1.5556234e+00,\n",
       "        8.2000999e+00,  1.5690680e+00, -3.7681000e+00,  3.7304232e+00,\n",
       "       -6.7666335e+00,  2.8827000e-01, -3.7719670e-01, -3.6532433e+00,\n",
       "       -8.5916656e-01,  1.1940135e+00, -7.0517001e+00,  3.8286002e+00,\n",
       "        4.4358335e+00,  2.0868800e+00,  3.0500002e+00,  3.0341499e+00,\n",
       "        4.3949666e+00, -2.7803602e+00,  1.2125334e+00,  1.9716381e+00,\n",
       "       -7.2193336e+00,  1.3461633e+00,  5.0539678e-01, -3.1151667e+00,\n",
       "       -7.7808995e+00,  1.5727501e+00, -3.9619331e+00, -3.4136665e+00,\n",
       "        1.8414301e+00, -7.0524335e+00,  5.6566637e-02,  2.1262100e+00,\n",
       "       -1.0090867e+01, -4.8237967e+00,  2.2979233e+00, -4.3364334e-01,\n",
       "        4.4044666e+00, -6.4675665e-01,  5.9843665e-01,  2.9554336e+00,\n",
       "       -5.4720330e+00,  6.0173321e-01,  5.1139665e+00,  2.6303330e-01,\n",
       "        2.3932135e+00, -3.4602668e+00, -3.2705390e+00, -9.6444994e-01,\n",
       "        3.2094100e+00,  6.3496337e+00, -7.6987329e+00,  1.4860333e+00],\n",
       "      dtype=float32)"
      ]
     },
     "execution_count": 16,
     "metadata": {},
     "output_type": "execute_result"
    }
   ],
   "source": [
    "doc = vectorizer(\"I love you\")\n",
    "doc.vector"
   ]
  },
  {
   "cell_type": "markdown",
   "id": "d60c6813",
   "metadata": {},
   "source": [
    "\n",
    "We will remove all digits from our dataset to enable us convert it to vectors"
   ]
  },
  {
   "cell_type": "code",
   "execution_count": 17,
   "id": "cf80f402",
   "metadata": {},
   "outputs": [],
   "source": [
    "reviews = []\n",
    "\n",
    "for review in data['Summary']:\n",
    "    review = re.sub(r'\\d','',str(review))\n",
    "    reviews.append(review)"
   ]
  },
  {
   "cell_type": "code",
   "execution_count": 19,
   "id": "d91ec6a7",
   "metadata": {},
   "outputs": [],
   "source": [
    "#incorporating our cleaned text into our dataframe\n",
    "data['reviews_cleaned'] = reviews"
   ]
  },
  {
   "cell_type": "code",
   "execution_count": 20,
   "id": "2f054042",
   "metadata": {},
   "outputs": [],
   "source": [
    "#vectorizing our cleaned text\n",
    "data['rev_vector'] = data['reviews_cleaned'].apply(lambda x: vectorizer(x).vector)"
   ]
  },
  {
   "cell_type": "markdown",
   "id": "878eeaf1",
   "metadata": {},
   "source": [
    "vectorizing this took a while. "
   ]
  },
  {
   "cell_type": "code",
   "execution_count": 21,
   "id": "cb7d6d35",
   "metadata": {},
   "outputs": [
    {
     "data": {
      "text/html": [
       "<div>\n",
       "<style scoped>\n",
       "    .dataframe tbody tr th:only-of-type {\n",
       "        vertical-align: middle;\n",
       "    }\n",
       "\n",
       "    .dataframe tbody tr th {\n",
       "        vertical-align: top;\n",
       "    }\n",
       "\n",
       "    .dataframe thead th {\n",
       "        text-align: right;\n",
       "    }\n",
       "</style>\n",
       "<table border=\"1\" class=\"dataframe\">\n",
       "  <thead>\n",
       "    <tr style=\"text-align: right;\">\n",
       "      <th></th>\n",
       "      <th>Summary</th>\n",
       "      <th>target</th>\n",
       "      <th>reviews_cleaned</th>\n",
       "      <th>rev_vector</th>\n",
       "    </tr>\n",
       "  </thead>\n",
       "  <tbody>\n",
       "    <tr>\n",
       "      <th>0</th>\n",
       "      <td>great cooler excellent air flow and for this p...</td>\n",
       "      <td>1</td>\n",
       "      <td>great cooler excellent air flow and for this p...</td>\n",
       "      <td>[-0.54611576, 0.3405574, -4.4681125, -0.504579...</td>\n",
       "    </tr>\n",
       "    <tr>\n",
       "      <th>1</th>\n",
       "      <td>best budget 2 fit cooler nice cooling</td>\n",
       "      <td>1</td>\n",
       "      <td>best budget  fit cooler nice cooling</td>\n",
       "      <td>[-1.8262001, 1.5094519, -5.0645423, -0.1739227...</td>\n",
       "    </tr>\n",
       "    <tr>\n",
       "      <th>2</th>\n",
       "      <td>the quality is good but the power of air is de...</td>\n",
       "      <td>1</td>\n",
       "      <td>the quality is good but the power of air is de...</td>\n",
       "      <td>[-1.9831436, 1.3934054, -1.6227155, 1.8680637,...</td>\n",
       "    </tr>\n",
       "    <tr>\n",
       "      <th>5</th>\n",
       "      <td>the cooler is really fantastic and provides go...</td>\n",
       "      <td>1</td>\n",
       "      <td>the cooler is really fantastic and provides go...</td>\n",
       "      <td>[-0.8724725, 0.3050531, -2.2475398, 0.5829884,...</td>\n",
       "    </tr>\n",
       "    <tr>\n",
       "      <th>6</th>\n",
       "      <td>very good product</td>\n",
       "      <td>1</td>\n",
       "      <td>very good product</td>\n",
       "      <td>[-0.7020133, -1.0288533, -1.9058, -1.28308, 3....</td>\n",
       "    </tr>\n",
       "  </tbody>\n",
       "</table>\n",
       "</div>"
      ],
      "text/plain": [
       "                                             Summary  target  \\\n",
       "0  great cooler excellent air flow and for this p...       1   \n",
       "1              best budget 2 fit cooler nice cooling       1   \n",
       "2  the quality is good but the power of air is de...       1   \n",
       "5  the cooler is really fantastic and provides go...       1   \n",
       "6                                  very good product       1   \n",
       "\n",
       "                                     reviews_cleaned  \\\n",
       "0  great cooler excellent air flow and for this p...   \n",
       "1               best budget  fit cooler nice cooling   \n",
       "2  the quality is good but the power of air is de...   \n",
       "5  the cooler is really fantastic and provides go...   \n",
       "6                                  very good product   \n",
       "\n",
       "                                          rev_vector  \n",
       "0  [-0.54611576, 0.3405574, -4.4681125, -0.504579...  \n",
       "1  [-1.8262001, 1.5094519, -5.0645423, -0.1739227...  \n",
       "2  [-1.9831436, 1.3934054, -1.6227155, 1.8680637,...  \n",
       "5  [-0.8724725, 0.3050531, -2.2475398, 0.5829884,...  \n",
       "6  [-0.7020133, -1.0288533, -1.9058, -1.28308, 3....  "
      ]
     },
     "execution_count": 21,
     "metadata": {},
     "output_type": "execute_result"
    }
   ],
   "source": [
    "data.head()"
   ]
  },
  {
   "cell_type": "code",
   "execution_count": 23,
   "id": "c399a2a0",
   "metadata": {},
   "outputs": [],
   "source": [
    "from sklearn.model_selection import train_test_split\n",
    "\n",
    "X_train, X_test, y_train, y_test = train_test_split(data.rev_vector.values, data.target, test_size=0.2, random_state=20, shuffle=True)"
   ]
  },
  {
   "cell_type": "code",
   "execution_count": 24,
   "id": "1e8989ca",
   "metadata": {
    "collapsed": true
   },
   "outputs": [
    {
     "data": {
      "text/plain": [
       "array([array([-9.1961497e-01,  3.6443356e-02, -3.7814999e+00,  1.5567299e+00,\n",
       "               2.4409406e+00, -1.1354750e+00, -1.6675831e-01,  2.4436133e+00,\n",
       "              -1.5548867e+00, -7.1410507e-01,  5.3053837e+00,  7.5602335e-01,\n",
       "              -3.5840166e+00,  1.9001135e+00,  1.1566831e+00,  4.2606637e-02,\n",
       "               5.5920500e-01, -4.6051118e-01,  1.5931234e+00, -1.2741717e+00,\n",
       "              -1.4499824e-04,  1.0891050e+00,  1.4009150e+00, -1.4086499e+00,\n",
       "               4.1975832e-01, -1.3474833e+00, -3.1877499e+00, -1.3787133e+00,\n",
       "              -1.2353767e+00,  1.9199901e+00,  1.4492531e+00, -1.9669000e+00,\n",
       "              -6.2577671e-01, -1.8484601e+00,  1.9008499e+00, -9.6329993e-01,\n",
       "              -3.8371840e-01,  6.2569326e-01,  8.3566666e-02,  1.8001183e+00,\n",
       "               1.5576665e-01, -5.2661818e-02,  4.1774082e+00, -9.8012000e-01,\n",
       "               2.7623335e-01,  2.2943833e+00,  1.2464992e-01, -1.2783790e-01,\n",
       "              -8.9134330e-01,  1.0804365e+00,  1.3411299e+00, -3.5446826e-01,\n",
       "               2.5497338e-01, -2.6751499e+00,  1.8060017e+00,  1.1896333e+00,\n",
       "               1.3374516e+00,  6.1311644e-02,  1.8672782e+00,  6.0662001e-01,\n",
       "               9.1511005e-01, -8.5177499e-01, -3.2133617e+00, -4.9206802e-01,\n",
       "               3.9465746e-01,  9.7314167e-01, -3.3638699e+00, -2.6492167e+00,\n",
       "              -1.9240715e-01,  1.0503315e+00,  6.1056662e-01, -1.2258115e-01,\n",
       "              -2.8432003e-01, -1.2586850e+00,  2.3444135e+00,  8.6596757e-01,\n",
       "              -1.3245167e+00,  4.2234835e-01, -1.1461916e+00, -1.1385025e+00,\n",
       "              -3.3726227e+00, -1.4391896e+00, -1.4539170e-01, -1.7660815e+00,\n",
       "              -6.4301831e-01,  2.3771997e-01,  7.6099969e-02,  5.7515007e-02,\n",
       "              -7.2399330e-01,  1.5713373e-02,  2.7232000e-01,  3.8380814e+00,\n",
       "               1.7531233e+00, -3.1152267e+00, -5.6439322e-01, -4.4744214e-01,\n",
       "               2.5575163e+00, -5.8262008e-01,  1.7166333e-01,  2.2241312e-01,\n",
       "              -1.8553013e-01,  6.5180427e-01,  1.0814099e+00, -7.6953334e-01,\n",
       "              -1.0169917e+00,  2.0267384e+00, -3.0828884e+00, -2.3641064e+00,\n",
       "              -1.3711326e-01, -1.2336434e+00,  1.7849994e-01, -4.5360002e-01,\n",
       "               1.8316826e+00, -6.4667171e-01, -1.1263900e+00,  3.5818598e+00,\n",
       "              -1.6651134e+00,  3.6134335e-01,  2.1906650e+00,  1.3070884e+00,\n",
       "              -2.2178617e+00,  1.5696996e-01, -1.4237167e+00,  2.5438353e-02,\n",
       "               7.6515961e-01, -2.0882981e+00,  1.3406701e+00, -2.7330399e+00,\n",
       "               2.6172812e+00, -3.3659995e-01, -4.6715550e+00,  1.2386668e-01,\n",
       "               3.7221901e+00, -5.2664000e-01, -3.1167002e+00,  2.9173167e+00,\n",
       "               1.0329834e-01, -1.1351417e+00,  7.5793147e-01, -1.9838829e-01,\n",
       "              -1.3970016e+00, -2.6472533e+00,  1.3834516e+00, -1.1041216e+00,\n",
       "               1.7556133e+00, -3.4836507e-01, -4.8217001e+00,  1.6277000e+00,\n",
       "               1.1060899e+00, -7.0552629e-01, -5.2975005e-01, -3.6758670e-01,\n",
       "              -2.6508398e+00,  7.7517337e-01,  1.8695501e+00,  8.9430499e-01,\n",
       "               2.6704769e+00,  1.1072568e+00,  6.2990499e-01, -1.2437633e+00,\n",
       "              -1.1516433e+00, -1.8559866e+00,  1.4620525e+00, -7.8019333e-01,\n",
       "               1.6126005e-01,  1.9618917e-01, -2.5965550e+00, -3.8264999e-01,\n",
       "               2.8921667e-01,  2.7086663e-01,  1.8342694e-02,  6.7424990e-02,\n",
       "              -3.8195166e-01, -1.4833001e+00,  1.0027717e+00, -1.8993250e+00,\n",
       "              -1.2939597e+00, -5.1875162e-01,  2.7212077e-01,  5.9386492e-01,\n",
       "              -1.3513865e+00,  6.8096346e-01,  2.9148457e+00, -1.7949568e+00,\n",
       "              -1.9356833e+00,  4.4166725e-02, -2.7460772e-01, -1.6783017e+00,\n",
       "              -1.5945950e+00,  3.0518842e-01,  1.4511517e+00,  1.3137218e+00,\n",
       "              -9.1403860e-01, -7.3954993e-01, -2.7835348e+00,  9.1486685e-02,\n",
       "              -1.6711732e+00,  5.8134252e-01,  1.3796216e+00, -1.0625116e+00,\n",
       "              -9.1031671e-01, -3.8755581e+00, -6.2505847e-01, -1.1588488e+00,\n",
       "              -1.3445534e+00,  3.0883670e-01, -2.0118849e+00,  2.5665398e+00,\n",
       "              -9.9358402e-02,  8.4348172e-01,  1.2800717e+00,  3.2526503e+00,\n",
       "              -3.4874499e-01,  4.1733187e-02, -2.9563103e+00, -6.7304164e-01,\n",
       "               1.0635133e+00, -2.4390166e+00, -8.8421661e-01, -9.5596671e-01,\n",
       "              -3.1335316e+00, -2.6617131e-01,  4.8597002e-01,  1.8838784e+00,\n",
       "              -3.7507901e-01, -3.5929353e+00, -1.7909503e-01,  2.9357998e+00,\n",
       "               3.2497997e+00,  1.0015700e+00, -4.2296669e-01, -2.4674666e-01,\n",
       "               9.5214325e-01,  1.0611299e+00,  1.2760850e+00,  5.0760514e-01,\n",
       "              -2.9239185e+00,  9.3948668e-01, -1.7286533e+00,  1.3893168e-01,\n",
       "              -1.4501333e-01, -8.6486000e-01,  3.2962334e+00, -2.9721584e+00,\n",
       "              -1.1295800e+00, -8.7738329e-01, -2.7088482e+00,  1.6972666e+00,\n",
       "               1.1700000e+00,  1.9969298e+00, -2.0263332e-01, -7.1765333e-01,\n",
       "              -3.4920433e+00, -3.6732003e-01,  6.3705343e-01, -2.5660009e+00,\n",
       "               1.2248341e+00,  1.5505214e-01,  2.4397667e-01,  2.4883330e-01,\n",
       "              -7.2110003e-01,  4.8757567e+00,  2.1333084e+00,  1.2658499e+00,\n",
       "               2.6949384e+00, -1.2768766e+00,  6.7044336e-01, -1.8479340e-01,\n",
       "              -2.7922747e+00,  1.4899167e+00,  3.1043899e+00,  7.9091668e-02,\n",
       "              -1.1176946e-01,  2.2336352e+00, -2.0051765e+00, -2.4683397e+00,\n",
       "               8.8979501e-01,  2.1011808e+00,  4.1133389e-01, -2.3794658e-01,\n",
       "               9.5480996e-01, -2.3052332e+00, -9.6753277e-02, -1.0579184e+00,\n",
       "               4.2643166e+00, -9.2755502e-01, -9.6010739e-01, -1.8986663e-02,\n",
       "              -2.5261078e+00, -8.0016673e-02,  5.1065665e-01, -2.1490340e-01,\n",
       "               3.1251166e+00, -9.9365163e-01, -3.4958236e+00, -7.0858836e-01,\n",
       "              -5.4636496e-01, -3.6071500e-01, -2.9342899e+00,  4.9474973e-02],\n",
       "             dtype=float32)                                                   ,\n",
       "       array([-0.72953326,  2.4088235 , -2.6129668 , -1.6952066 , -0.32900003,\n",
       "               3.0086668 ,  3.40081   ,  3.5100667 ,  0.01379673, -1.4773299 ,\n",
       "               3.6390333 ,  3.9335663 , -6.5537333 ,  1.6459733 , -1.0331434 ,\n",
       "              -1.1022667 ,  1.4758734 , -3.404153  ,  0.09314668, -2.9194868 ,\n",
       "               0.44013342, -0.3530399 , -0.9524534 , -3.7390335 , -2.8688297 ,\n",
       "              -0.92469996, -1.2470467 , -1.4700934 , -1.4759666 ,  3.293503  ,\n",
       "               2.4645998 , -2.2755    , -3.0902336 ,  1.45774   ,  0.12793334,\n",
       "               0.63203317, -2.6612332 , -1.9830894 ,  4.6436334 ,  3.8815002 ,\n",
       "               1.2857834 ,  0.7095666 ,  2.0852334 , -2.5952666 , -4.3753    ,\n",
       "               0.77136993,  4.63791   , -6.810978  , -4.9480333 ,  4.2845335 ,\n",
       "               0.20669158, -0.445477  ,  1.9820501 , -3.1370335 , -4.895453  ,\n",
       "              -0.7794333 ,  2.9469602 ,  2.1950266 , -0.3804033 ,  4.210033  ,\n",
       "               2.23537   , -1.7307357 , -0.29872003, -0.99056673, -3.09851   ,\n",
       "              -0.7988334 , -2.38497   , -3.6454666 ,  1.1215867 , -1.1114    ,\n",
       "               2.1398332 ,  0.60144   , -0.76813334,  0.08440002,  2.9619668 ,\n",
       "               1.0580667 , -2.8145568 , -0.44353333,  1.8392668 , -1.6825666 ,\n",
       "              -2.7509034 ,  0.95739985,  4.6151004 ,  0.4164234 , -1.59909   ,\n",
       "               0.10955974,  2.2294002 , -2.418026  ,  3.5684001 , -1.2621766 ,\n",
       "               1.7737266 ,  2.1830666 ,  2.1632564 , -6.2078996 , -1.12727   ,\n",
       "              -1.6932999 ,  1.7788    , -3.6201134 , -3.2183666 , -0.41250002,\n",
       "              -0.8825333 ,  1.8517965 , -2.6049335 , -0.34889993, -0.9835334 ,\n",
       "               3.6669998 , -4.9086995 ,  0.40649   , -1.9622465 ,  0.9551332 ,\n",
       "               0.25713333, -2.6341999 ,  1.2739034 , -2.6174667 , -3.9377    ,\n",
       "               5.7117996 , -1.0238332 , -0.9300024 , -0.16139369, -0.9549267 ,\n",
       "               3.2544668 , -1.8278233 , -5.510733  , -0.02856668, -2.5499732 ,\n",
       "              -0.43310001,  4.1868    ,  0.9630299 , -0.16996334, -0.55320007,\n",
       "              -1.3815503 ,  3.325     , -2.1516793 , -0.01909995, -1.0728999 ,\n",
       "               2.35699   ,  0.99203324, -3.1904333 ,  2.69747   , -6.5520997 ,\n",
       "              -0.21139999, -1.8608466 ,  3.566377  ,  2.4607067 , -5.5159335 ,\n",
       "              -2.8872998 ,  3.64229   , -0.07590008, -0.31285366, -2.3652165 ,\n",
       "              -5.7579665 ,  0.72808236, -1.4904333 ,  2.1682665 ,  0.42940006,\n",
       "               1.3490033 ,  2.3837335 , -0.13936655, -1.2959667 , -1.1768333 ,\n",
       "              -1.0589354 , -1.1039001 , -1.6757001 , -1.6637965 , -4.2454333 ,\n",
       "              -0.07026664,  1.9603332 ,  0.6200301 , -1.445819  ,  2.6147168 ,\n",
       "               0.07005334,  3.4050667 ,  2.0394    , -2.3182666 , -0.27549997,\n",
       "              -3.6827202 , -3.509467  ,  3.3397334 ,  2.08206   ,  2.8459332 ,\n",
       "               0.31858   ,  0.8659    ,  5.394833  , -1.4454933 , -0.35147414,\n",
       "               1.0593666 , -4.461167  , -1.17306   ,  0.31350002,  1.24227   ,\n",
       "               0.42730007,  5.304533  , -0.56146663,  1.1616334 , -1.8539634 ,\n",
       "              -2.0628536 , -3.1450233 , -1.8952268 ,  2.0042632 ,  3.9169998 ,\n",
       "              -3.6814334 ,  1.33025   ,  0.72074   , -2.8531334 , -5.0885334 ,\n",
       "               3.85268   ,  0.01775332, -2.170482  , -2.31098   , -1.8518    ,\n",
       "               4.556733  , -0.794501  , -1.8277568 , -0.63726664, -5.1692    ,\n",
       "               0.01333332, -1.7416667 , -1.7185669 ,  2.1160934 ,  3.4874668 ,\n",
       "              -1.8923    , -1.8534633 ,  1.6513001 ,  0.9427001 ,  1.6574669 ,\n",
       "              -1.6360532 , -2.866     ,  0.55679995,  2.6923363 ,  3.4564698 ,\n",
       "              -3.9571    , -0.88471335, -0.36439   , -0.08083999,  1.1085666 ,\n",
       "              -0.5995    ,  2.2290335 ,  4.4694333 , -0.64103335,  2.4630668 ,\n",
       "              -2.8455067 ,  2.5211332 ,  3.6965332 , -1.6473333 , -1.27769   ,\n",
       "              -2.0694768 ,  2.7320335 , -2.29503   ,  0.83936673,  1.8730365 ,\n",
       "              -0.06701668,  1.1559167 , -8.023067  ,  2.0199666 ,  2.7704566 ,\n",
       "              -5.0304    , -2.2192667 ,  3.1236668 , -1.9298333 ,  2.2646668 ,\n",
       "               0.09641337,  0.5494232 ,  3.5064335 ,  2.5219333 ,  0.6873853 ,\n",
       "               4.041209  ,  2.9092333 ,  1.3380865 , -6.1210666 ,  1.7813    ,\n",
       "               1.9541    ,  0.7346    , -1.3709601 ,  3.1524365 , -2.7400866 ,\n",
       "              -3.9962997 ,  2.7177498 ,  0.123328  , -1.7608823 ,  4.390838  ,\n",
       "              -3.8695667 , -1.9005166 ,  0.13956667,  2.9659998 ,  1.9305667 ,\n",
       "               0.9052067 ,  6.1349664 ,  0.8039666 ,  0.02787665,  0.05693666,\n",
       "               2.352864  , -0.85393333,  4.058723  , -3.8336666 , -1.8453001 ,\n",
       "              -3.6160266 ,  0.93009996,  2.3154333 , -1.2391833 ,  7.5864334 ],\n",
       "             dtype=float32)                                                    ,\n",
       "       array([ 0.07358   , -0.88712996, -2.3459    , -2.12495   ,  2.50625   ,\n",
       "               1.4273    ,  2.42331   ,  4.6984    , -3.146     ,  0.19030997,\n",
       "               7.75465   ,  1.4674499 , -4.0933    , -0.69710505,  3.82073   ,\n",
       "              -1.0129001 ,  2.9934    , -3.5242    ,  2.5437    , -0.22817999,\n",
       "              -0.54614997,  1.335005  , -1.1094999 , -2.07545   ,  1.46468   ,\n",
       "              -2.8328    , -4.3474    ,  0.87944996, -2.6856852 ,  0.8062999 ,\n",
       "               3.16835   , -2.45295   , -4.1052    , -1.2671701 ,  0.33235997,\n",
       "              -0.41243502, -1.89305   ,  1.4073501 ,  2.7536001 ,  2.17325   ,\n",
       "               1.4106    ,  4.25185   ,  1.173165  , -4.6189003 , -1.672815  ,\n",
       "               1.027615  ,  3.4125    , -4.60735   , -2.75755   ,  2.9477    ,\n",
       "               0.35725003,  1.410995  ,  1.150385  , -4.0396    , -1.5036001 ,\n",
       "               0.2805835 , -1.6363502 ,  0.54066   ,  2.1649752 ,  0.11943498,\n",
       "               3.9085503 , -1.2479031 ,  1.3511    , -2.73461   , -1.40575   ,\n",
       "               2.68855   , -4.33865   , -6.4115496 , -1.3239    , -1.200145  ,\n",
       "               3.6546497 ,  3.2922    ,  0.45679998, -0.13164997,  3.8739    ,\n",
       "               2.7926998 , -2.1677    ,  1.87299   , -0.022035  , -1.0313001 ,\n",
       "              -6.0071497 , -2.7749    ,  2.1578    , -2.262065  ,  2.51715   ,\n",
       "               2.70615   ,  0.20974994, -0.53414   ,  2.149405  , -1.61031   ,\n",
       "              -1.444605  ,  2.50885   ,  2.344195  , -9.3996    , -1.4948151 ,\n",
       "              -2.723515  ,  2.1855001 , -5.0341    , -0.38702   , -1.02497   ,\n",
       "              -0.8791    , -0.6422    ,  0.44809997,  3.4654999 , -2.71135   ,\n",
       "               2.0835    , -4.40303   , -2.4976501 ,  0.567295  ,  0.04710007,\n",
       "               1.207985  , -2.7269    ,  1.86045   ,  2.11385   , -1.522335  ,\n",
       "               4.5423    , -3.2503    , -2.0918415 , -1.392325  , -1.8111501 ,\n",
       "              -0.49936   ,  0.03500003, -2.6473498 ,  5.73755   ,  0.137285  ,\n",
       "              -2.201025  ,  2.914485  , -2.5879998 ,  2.65995   , -0.07789999,\n",
       "              -1.607995  ,  2.6223998 ,  7.2234    , -2.6455052 ,  0.572541  ,\n",
       "               2.3202999 , -4.5647    , -3.1801    ,  4.25105   , -0.04655004,\n",
       "              -1.024635  ,  0.31864002,  1.36753   ,  2.5717502 , -2.384185  ,\n",
       "              -2.8780499 , -1.20747   , -3.13255   ,  0.20938498,  4.308     ,\n",
       "               1.9466    ,  2.76325   , -0.29829997,  1.5887151 , -0.474045  ,\n",
       "               2.85275   ,  5.7594004 ,  0.8030939 , -1.6976    , -4.33285   ,\n",
       "               1.10338   , -1.0968549 ,  1.204765  , -2.90139   , -3.190355  ,\n",
       "              -0.8938501 , -0.12115002, -1.1609449 , -1.0062599 , -0.23365003,\n",
       "               4.2844    ,  3.6542501 ,  4.2419996 , -2.68755   ,  2.2316    ,\n",
       "               1.0906583 , -1.4647999 ,  3.08785   ,  0.93285   , -0.74565005,\n",
       "              -3.1795    ,  1.9606001 ,  5.94065   , -2.4138    , -3.52865   ,\n",
       "               3.4552364 , -4.4366503 , -3.84795   , -1.0931101 ,  4.8236    ,\n",
       "               0.95335   ,  2.41532   , -1.02521   , -1.701265  ,  0.5834    ,\n",
       "              -3.508     , -2.100565  , -2.2908502 ,  2.7943    ,  3.93335   ,\n",
       "               0.5810999 ,  0.158735  , -5.14415   , -2.60025   , -1.92329   ,\n",
       "               5.6410503 , -4.36675   ,  1.134475  ,  1.2047601 , -1.07687   ,\n",
       "               2.1508    ,  1.2122749 ,  1.009875  , -1.570655  , -2.6342502 ,\n",
       "               3.1245    ,  1.1451502 , -1.850925  , -2.8901498 ,  0.29625   ,\n",
       "              -2.31005   , -2.81535   ,  0.90979   ,  1.4912001 ,  3.2351    ,\n",
       "               0.33199   , -0.8799    ,  0.35860002,  5.56345   ,  2.98485   ,\n",
       "              -3.0388498 , -2.61065   ,  0.56665003,  2.4922    ,  1.2803506 ,\n",
       "               0.64559   , -0.22555006,  2.2636502 , -1.03775   ,  1.77015   ,\n",
       "              -0.230935  ,  0.071825  ,  4.16325   , -1.15914   , -0.46999997,\n",
       "              -1.15077   , -1.9330649 ,  0.48869997,  0.935366  ,  1.93031   ,\n",
       "              -0.22510749,  3.3016    , -7.663     , -0.02160001,  1.498335  ,\n",
       "              -6.82685   , -1.170619  ,  3.67895   , -2.34735   , -0.155575  ,\n",
       "              -0.62255   ,  1.42437   ,  1.51575   ,  2.8209    ,  2.0084    ,\n",
       "               5.94405   , -1.174485  ,  1.68116   , -5.5167    , -0.97082   ,\n",
       "               6.7542    , -2.84472   , -2.4566002 , -1.2117499 ,  0.65164995,\n",
       "              -1.1105001 ,  3.91505   , -1.12201   , -0.782435  ,  3.1451    ,\n",
       "               5.79745   , -3.93855   , -2.6351    , -2.91505   ,  5.7454753 ,\n",
       "               0.514785  ,  5.1293497 , -2.019     , -2.39555   , -0.30984998,\n",
       "              -0.21359998, -3.00715   ,  2.153175  , -0.72145   , -1.5969    ,\n",
       "              -1.5785    , -0.01259995,  2.4633    , -6.0582    ,  4.4717503 ],\n",
       "             dtype=float32)                                                    ,\n",
       "       ...,\n",
       "       array([-1.3278867e+00, -1.1612867e+00, -2.0342333e+00, -7.7363330e-01,\n",
       "               1.7899666e+00,  8.2113332e-01,  2.9846401e+00,  4.0572667e+00,\n",
       "              -1.4582334e+00, -2.0670402e+00,  7.7091994e+00,  2.2968667e+00,\n",
       "              -4.8501668e+00,  3.1860331e-01,  1.5558966e+00,  5.9119993e-01,\n",
       "               3.5779335e+00, -2.3260334e+00,  3.6460018e-01, -2.4281664e-01,\n",
       "              -1.3017999e+00,  2.2060366e+00, -1.8234000e+00, -3.0639997e-01,\n",
       "               1.6422333e-01, -2.9340332e+00, -3.2933333e+00, -1.0742934e+00,\n",
       "              -2.5180666e+00,  1.6070665e+00,  4.4177999e+00, -8.9666052e-03,\n",
       "              -2.9140568e+00,  5.0997734e-04,  2.0554002e-01, -7.1412343e-01,\n",
       "               5.3726655e-01,  1.6467333e+00,  4.4502001e+00,  3.1722667e+00,\n",
       "               1.7871166e+00,  2.5265999e+00,  2.6258767e+00, -2.9693267e+00,\n",
       "              -2.8143733e+00,  7.4144667e-01,  2.9385002e+00, -6.2303004e+00,\n",
       "              -2.9696999e+00,  3.4623802e+00,  2.5637758e-01,  1.4935166e+00,\n",
       "               9.6499997e-01, -5.6549335e+00, -4.0015331e-01,  6.1483902e-01,\n",
       "              -6.0866673e-02,  4.5392099e-01,  2.1166000e+00,  1.9163290e-02,\n",
       "               3.0646036e+00, -1.6346354e+00,  4.8195997e-01, -1.4551334e+00,\n",
       "              -2.6966667e-01,  8.6951333e-01, -4.3139329e+00, -5.0033331e+00,\n",
       "              -6.2413669e-01, -9.4859666e-01,  1.9378999e+00,  2.8462334e+00,\n",
       "               2.8856668e-01,  5.9642333e-01,  3.3328667e+00,  2.7224331e+00,\n",
       "              -2.7243335e+00,  9.1589332e-01,  1.7572132e+00,  3.1263003e-01,\n",
       "              -5.4147000e+00, -9.6282667e-01,  2.8792067e+00, -1.6832598e-01,\n",
       "               1.3477100e+00,  7.9906672e-01, -1.2248334e+00, -4.2909343e-02,\n",
       "               1.6921834e+00,  4.6056587e-02, -9.4676661e-01,  1.4614100e+00,\n",
       "               2.2009232e+00, -7.1495667e+00, -1.3683566e+00, -3.3014100e+00,\n",
       "               1.1066999e+00, -2.4279401e+00, -2.0592799e+00, -1.6590667e+00,\n",
       "              -3.0636668e-01, -9.9680334e-01, -1.4879335e-01,  3.6375000e+00,\n",
       "              -3.4399995e-01,  2.8902667e+00, -3.7928867e+00, -2.9226768e+00,\n",
       "               2.9631996e-01,  2.8620002e-01, -1.4304335e-01, -2.4113667e+00,\n",
       "               3.2783341e-01,  7.1550006e-01, -1.1973933e+00,  4.9023333e+00,\n",
       "              -1.7249032e+00, -1.5895567e+00, -1.6694900e+00, -4.9427667e-01,\n",
       "              -1.1070533e+00, -1.5012900e+00, -2.3284833e+00,  3.1286933e+00,\n",
       "               4.1496000e-01, -3.0515668e+00,  1.5902948e+00, -9.3040007e-01,\n",
       "               2.6126666e+00, -8.0156666e-01, -3.1420839e+00,  3.0187333e+00,\n",
       "               4.9945874e+00, -4.6474671e-01, -9.3519998e-01,  1.2174000e+00,\n",
       "              -5.2914000e+00, -2.6304667e+00,  3.7883337e+00, -1.4671429e+00,\n",
       "               9.8197675e-01, -1.4935399e+00,  1.5401001e-01,  2.6589000e+00,\n",
       "              -1.9427567e+00, -2.6865666e+00, -8.5560006e-01, -3.2173336e+00,\n",
       "               1.3433529e+00,  3.9918833e+00, -5.4228985e-01,  7.1258336e-01,\n",
       "              -1.8360666e+00,  5.1354331e-01, -4.1677999e-01,  1.5146033e+00,\n",
       "               4.6240668e+00,  1.0858067e+00, -2.7311001e+00, -3.6281331e+00,\n",
       "               6.0916799e-01, -9.0603667e-01,  1.6894432e+00, -2.8390467e+00,\n",
       "              -2.3945367e+00, -5.1743007e-01,  1.6762667e+00, -1.3335967e+00,\n",
       "              -1.8993402e+00,  6.4146668e-01, -1.3877200e+00,  2.1720998e+00,\n",
       "               3.2367334e+00, -3.1523399e+00,  5.4370004e-01,  1.2945467e+00,\n",
       "              -1.6014832e+00,  6.7703336e-01,  1.4910766e+00, -8.6667675e-01,\n",
       "              -3.3277664e+00, -3.8729984e-02,  5.2096667e+00, -3.0325298e+00,\n",
       "              -4.5001330e+00,  1.4349999e+00, -5.7917333e+00, -3.3697932e+00,\n",
       "              -1.8708000e+00,  3.0603333e+00,  1.6687001e+00,  2.1508200e+00,\n",
       "               1.4599333e+00, -3.9026766e+00,  7.5566673e-01, -4.2260003e+00,\n",
       "              -3.2751434e+00, -4.8623338e-01,  2.1287301e+00,  4.0319967e+00,\n",
       "               8.9413333e-01,  4.8611999e-01, -3.2486935e+00, -6.6763335e-01,\n",
       "               1.6822734e+00,  4.8243032e+00, -4.6578670e+00,  4.2698336e-01,\n",
       "               5.6279999e-01, -3.3108132e+00,  3.0435998e+00, -2.1452333e-01,\n",
       "              -5.0598335e-01, -1.1821033e+00, -2.0633667e+00,  2.0610666e+00,\n",
       "              -5.7884318e-01, -3.6418998e+00, -1.9844667e+00,  1.8178366e+00,\n",
       "              -1.9819332e+00, -1.3975633e+00,  1.3950834e+00,  3.1719000e+00,\n",
       "               1.4821399e+00, -1.5628667e-01, -1.8597332e+00,  5.1756674e-01,\n",
       "               3.0777366e+00,  2.6251667e+00, -2.8285000e+00, -1.0761967e+00,\n",
       "               1.3500866e+00,  1.9294667e+00,  2.1044672e+00, -1.5296401e+00,\n",
       "              -1.5397339e-01,  2.2770767e+00,  7.5599991e-02,  1.9043999e+00,\n",
       "              -1.1773100e+00,  2.5712332e-01,  2.7543666e+00, -1.4909834e+00,\n",
       "              -1.1992167e+00, -2.5937767e+00, -8.3718997e-01,  2.2094367e+00,\n",
       "              -1.3585666e+00,  2.4540028e-02,  1.6038163e-01,  2.8820333e+00,\n",
       "              -6.3611665e+00,  7.2466332e-01,  2.5111899e+00, -6.3099666e+00,\n",
       "              -6.8841332e-01,  2.9051001e+00, -2.7159531e+00,  6.7005330e-01,\n",
       "              -4.2384169e-01,  1.0621666e+00,  2.0702333e+00,  2.5483332e+00,\n",
       "               2.7542667e+00,  5.3071332e+00, -1.5965234e+00,  2.0552766e+00,\n",
       "              -3.8494999e+00, -6.8473768e-01,  6.2274995e+00, -5.7933252e-02,\n",
       "              -2.0943601e+00, -1.3980331e+00, -1.1811334e+00, -1.5841333e+00,\n",
       "               2.3504498e+00, -2.1230834e+00, -1.4830400e+00,  9.9116164e-01,\n",
       "               4.4289002e+00, -2.7523668e+00, -1.4019800e+00, -6.7530058e-02,\n",
       "               4.0301666e+00,  9.8213339e-01,  2.6821365e+00, -4.7050014e-01,\n",
       "              -7.6789337e-01,  3.6106667e-01,  1.8002833e+00, -2.6770999e+00,\n",
       "               3.7808163e+00, -2.5436335e+00, -1.6199666e+00, -2.7174332e+00,\n",
       "               1.0075667e+00,  1.7158667e+00, -3.3866832e+00,  5.1788001e+00],\n",
       "             dtype=float32)                                                   ,\n",
       "       array([-1.545145  , -0.570495  , -0.81775   ,  1.13613   ,  2.566749  ,\n",
       "              -0.15919995,  0.70163   ,  1.272805  , -4.01535   , -0.55520004,\n",
       "               5.4084    ,  1.362815  , -2.929775  ,  1.32875   ,  0.54645   ,\n",
       "              -0.40144202,  1.1059949 ,  1.2695351 , -1.3968899 , -1.64555   ,\n",
       "              -1.28819   ,  2.529965  , -2.7695498 ,  2.40492   , -1.649985  ,\n",
       "              -0.41479498,  0.665005  , -2.1674    , -2.360864  , -0.1013535 ,\n",
       "               1.9341002 , -0.39684   , -0.69015   ,  0.88175   , -0.68539   ,\n",
       "               0.5237    ,  0.71536505,  2.7103    ,  0.749295  ,  0.822941  ,\n",
       "              -0.907885  ,  0.302     ,  0.19798502,  1.5720199 ,  1.10315   ,\n",
       "               0.921425  ,  2.88734   , -1.8058    , -0.557855  , -3.3942952 ,\n",
       "               1.20985   ,  1.9586    ,  1.8037    , -2.03595   , -1.281105  ,\n",
       "              -1.5844051 , -1.8486391 , -0.32085   , -0.5016395 , -2.354415  ,\n",
       "               3.0917299 ,  0.17699993, -1.5561999 , -1.797815  ,  0.45365   ,\n",
       "              -1.09513   , -0.19186002, -0.63925   , -1.14458   ,  1.23019   ,\n",
       "              -1.86791   ,  1.284135  , -2.249475  , -0.771925  ,  1.272005  ,\n",
       "               0.43174994, -2.3066    ,  0.568215  ,  0.863113  ,  0.11910003,\n",
       "              -1.507     ,  0.08476001,  0.825897  ,  1.6942999 , -0.32898498,\n",
       "              -0.715155  , -0.01604001,  1.1944499 ,  0.821725  ,  2.282065  ,\n",
       "               0.3661    , -0.13182503,  2.5813    , -1.567975  ,  1.50225   ,\n",
       "              -2.8502    ,  1.31791   ,  0.44519997, -2.88425   , -0.3549    ,\n",
       "               1.8518499 , -0.92548   , -0.11966099, -0.22729999,  0.87943006,\n",
       "               2.35045   , -3.35085   , -0.82539994, -1.28115   , -1.4710575 ,\n",
       "               0.576     ,  0.36766002,  0.64501   , -1.649545  ,  0.1596435 ,\n",
       "               2.244685  , -1.85238   , -2.3682501 , -0.9372    , -1.63247   ,\n",
       "              -0.914675  , -1.7381301 , -1.309415  ,  2.7387352 ,  0.67475003,\n",
       "              -1.1675999 , -0.42240497, -3.418765  ,  1.39705   , -0.54939   ,\n",
       "              -0.82175004,  1.7441599 ,  2.11115   ,  0.96874   , -1.466655  ,\n",
       "               0.17458501,  0.24311   , -2.6957002 ,  0.034695  ,  0.885719  ,\n",
       "               0.05739999, -2.20433   ,  0.05231999,  1.230975  ,  1.03054   ,\n",
       "               0.14247   , -0.81695   ,  0.25149   , -0.28666002,  2.79282   ,\n",
       "              -0.653875  ,  1.582255  , -1.41784   , -1.6510899 , -0.344505  ,\n",
       "               1.05249   ,  2.69402   ,  0.92312896, -0.866015  , -0.66214997,\n",
       "              -0.829935  , -0.07087   ,  2.52457   ,  0.68578005, -0.90470505,\n",
       "              -0.04591501, -1.02986   , -1.6851696 ,  1.2994651 , -0.72345   ,\n",
       "              -1.9896501 , -2.24876   , -1.46455   ,  2.19665   , -0.68663   ,\n",
       "               0.94044995,  0.12834996, -0.324795  ,  0.536725  ,  0.47264498,\n",
       "              -1.637496  ,  1.3973    ,  1.263165  , -4.22586   , -1.817205  ,\n",
       "              -0.91208005, -0.45889997, -1.5350599 ,  2.54893   ,  0.75993   ,\n",
       "              -0.12865499,  1.6514    ,  0.408395  , -0.15717499,  0.99593496,\n",
       "              -0.40438   , -1.8602101 ,  1.67167   , -0.22255003,  1.266865  ,\n",
       "              -0.347338  , -0.439395  ,  0.23567   ,  1.121015  ,  0.3032    ,\n",
       "               0.52734995, -3.558135  ,  0.50825   ,  1.048795  , -1.3816    ,\n",
       "               2.04677   , -0.11565   ,  0.51369995,  2.037105  ,  0.08315003,\n",
       "              -0.41279   ,  0.53592   , -4.26197   , -2.34876   , -0.04888001,\n",
       "              -0.82304996,  1.4666799 , -0.72429997, -0.9203    ,  0.08123499,\n",
       "              -2.0921001 ,  0.34106   ,  3.4579499 ,  1.8385    ,  0.26173002,\n",
       "              -1.2569499 , -2.00945   , -0.39156   ,  0.43116498,  3.6384    ,\n",
       "               0.258115  , -0.94716   , -0.23096001,  3.0518498 ,  1.3155301 ,\n",
       "              -0.516673  , -2.5652    ,  0.28656504,  1.8547499 , -0.19290498,\n",
       "              -0.76091504,  1.0676501 ,  1.7326701 ,  0.638315  , -0.40127   ,\n",
       "              -0.53415   , -0.47641   , -1.8007    , -0.9222    ,  0.45623997,\n",
       "              -1.84243   , -0.25313002,  1.8285    , -1.6446999 ,  0.99835503,\n",
       "               0.58140004,  2.83991   ,  0.26924998,  1.24985   ,  0.77156496,\n",
       "               0.59999   ,  0.35487998,  0.43866998, -0.82943   ,  0.497205  ,\n",
       "               1.732845  , -0.00861999, -0.273255  , -1.3238549 , -0.42174   ,\n",
       "              -3.01135   , -0.81899   ,  0.145715  ,  0.228075  ,  0.78675497,\n",
       "               1.2221501 , -0.19839498,  0.8737128 , -0.29999998,  3.41821   ,\n",
       "              -0.28922   ,  0.424235  ,  1.0532451 , -2.27052   ,  1.88298   ,\n",
       "              -0.05248001, -1.4800535 ,  0.643425  , -0.84173   , -1.593745  ,\n",
       "              -0.1925    ,  1.866545  , -1.8491999 , -0.57046497,  0.52043504],\n",
       "             dtype=float32)                                                    ,\n",
       "       array([-1.1637334e+00,  1.4053568e+00, -7.7704000e-01, -5.8456659e-01,\n",
       "               2.6410999e+00,  4.1069666e-01,  1.7872334e+00,  4.0858998e+00,\n",
       "              -1.5005335e+00, -1.6186770e+00,  9.8542662e+00, -3.1130004e-01,\n",
       "              -3.3196332e+00,  4.1883996e-01, -5.4064000e-01,  6.2660332e+00,\n",
       "               1.3277334e+00,  2.1370001e+00, -1.3642668e+00, -1.7552401e+00,\n",
       "              -9.9523330e-01, -7.8430003e-01, -4.6813669e+00,  1.3654333e+00,\n",
       "              -3.2007332e+00,  5.0860006e-01,  1.4155668e+00, -2.4012368e+00,\n",
       "              -3.5132799e+00,  2.1753266e+00,  5.1113331e-01,  5.0869002e+00,\n",
       "              -4.8764567e+00,  5.0799334e-01, -1.2081333e+00,  4.9396329e+00,\n",
       "              -2.8450012e-01,  3.5460663e+00,  2.0273168e+00,  3.7487667e+00,\n",
       "               1.7623337e-01,  4.3327665e+00,  9.5225668e-01,  4.3654665e-01,\n",
       "              -3.6940300e+00,  5.1044002e+00,  7.2791200e+00, -7.1620002e+00,\n",
       "              -3.6881135e+00,  1.8630800e+00, -3.9295998e-01, -6.8333268e-02,\n",
       "               4.5316057e+00, -6.9308338e+00,  2.7054865e+00, -1.2834668e-01,\n",
       "               1.7525667e+00, -1.5852057e+00, -6.3391334e-01,  2.1440005e-01,\n",
       "               4.0053000e+00, -1.8995667e+00,  1.1022663e-01, -2.8112335e+00,\n",
       "               9.8633343e-01, -1.1965367e+00, -4.7653326e-01, -5.6759000e+00,\n",
       "               2.6683433e+00, -1.6473325e-01, -2.8583336e-01,  5.7326336e+00,\n",
       "              -5.6805000e+00,  7.9929334e-01,  2.2403200e+00,  2.2068932e+00,\n",
       "              -4.0929365e+00,  3.7672999e+00, -2.7143118e+00,  2.5749967e+00,\n",
       "              -3.5139668e+00, -3.4215934e+00, -1.7324333e-01, -8.5145932e-01,\n",
       "               8.2647663e-01, -1.9954331e-01, -4.7339001e+00,  5.4956634e-02,\n",
       "               5.3577800e+00,  3.8721332e-01,  1.1013333e+00, -5.6384234e+00,\n",
       "               6.2626672e-01, -8.2949333e+00, -3.4064133e+00, -5.7928672e+00,\n",
       "              -1.3659998e+00, -1.9932152e+00, -2.2909334e+00, -5.1127996e+00,\n",
       "               2.2341001e+00, -2.4664035e+00,  2.1063735e+00,  6.7794666e+00,\n",
       "               1.4345666e+00,  5.2812667e+00, -2.2314599e+00, -1.9077667e+00,\n",
       "              -1.3885435e+00,  3.8019435e+00,  3.1366000e-01,  1.2768666e+00,\n",
       "              -1.2818999e+00,  1.2332367e+00,  1.3917700e+00,  1.6987333e+00,\n",
       "              -2.8217566e+00, -7.0837331e-01, -3.6417332e+00,  2.3949499e+00,\n",
       "              -4.0444665e+00, -5.5293334e-01, -2.0207832e+00,  4.7902598e+00,\n",
       "              -4.6809330e+00, -6.1424203e+00, -1.1199954e+00,  1.2161833e+00,\n",
       "               3.1225054e+00,  3.9303371e-01, -3.7668667e+00,  1.5208000e+00,\n",
       "               6.8404002e+00, -2.5647466e+00, -2.0574665e+00,  7.6988000e-01,\n",
       "              -1.8048333e+00, -3.3868666e+00,  4.1244001e+00, -2.4374759e+00,\n",
       "              -7.0933260e-02, -4.9326329e+00,  1.8068299e+00,  1.2346500e+00,\n",
       "               4.7256470e+00, -1.6327333e+00, -7.2027335e+00, -3.8624332e+00,\n",
       "              -9.0430015e-01,  6.1117330e+00,  2.6922433e+00, -2.3760000e-02,\n",
       "               1.3905333e+00,  5.6603336e-01, -1.0249001e-01,  3.3413000e+00,\n",
       "               3.3237000e+00,  1.0224733e+00, -2.4610002e-01, -5.0069332e+00,\n",
       "              -3.9100662e-01, -1.1660150e+00,  3.8108702e+00,  7.6767307e-04,\n",
       "              -4.4435000e+00, -2.5916967e+00, -1.3883801e+00,  4.8252931e+00,\n",
       "              -6.9566570e-02, -3.2076660e-01, -1.0792466e+00, -1.1366668e+00,\n",
       "               5.1385331e+00, -1.2499400e+00,  1.3145667e+00, -2.8477669e+00,\n",
       "               3.5151663e-01,  1.6847668e+00, -2.0702899e+00,  1.1394900e+00,\n",
       "              -3.6472666e+00,  4.4874701e+00,  3.9239998e+00, -2.1383665e+00,\n",
       "              -5.8124661e+00, -1.6787001e+00, -4.2129331e+00, -2.8109000e+00,\n",
       "              -1.2509001e+00,  3.7938669e+00,  5.4066699e-02, -1.7316600e+00,\n",
       "               2.0877333e+00, -2.6492331e+00,  1.9138144e+00, -1.4153668e+00,\n",
       "              -4.7744002e+00,  4.1126666e+00,  6.1079001e+00, -2.7017899e+00,\n",
       "               1.3834335e+00, -1.1760334e+00, -1.1249000e+00, -6.3216662e-01,\n",
       "               3.5133333e+00,  1.9291533e+00, -8.9369326e+00,  1.5884666e+00,\n",
       "              -1.8151335e+00, -3.9102666e+00,  2.8380334e+00,  2.9312332e+00,\n",
       "              -7.3223001e-01,  2.8380966e+00, -5.5791670e-01,  6.3469982e-01,\n",
       "              -1.8323766e+00, -5.5502505e+00, -1.8912668e+00,  2.0500033e+00,\n",
       "              -9.8560333e-01, -2.5994968e+00,  5.0962901e+00, -6.6243339e-01,\n",
       "               1.6769799e+00,  2.2341330e+00, -9.3930000e-01,  9.3513328e-01,\n",
       "               1.7787666e+00, -3.5526666e-01, -3.9883336e-01, -1.4206902e+00,\n",
       "               2.3977702e+00,  2.5399666e+00, -2.4790668e+00,  2.0373666e+00,\n",
       "               2.2373600e+00, -3.1692066e+00,  2.2689333e+00,  3.7761667e+00,\n",
       "              -2.0951335e+00,  4.1946650e-02,  1.1496667e+00,  1.7758135e+00,\n",
       "              -6.1807007e-01, -4.7338805e+00, -3.3354225e+00,  4.4082665e+00,\n",
       "               4.4973341e-01,  4.3658071e+00, -4.5552000e-01, -1.6420666e+00,\n",
       "              -2.9489002e+00, -3.0955999e+00,  3.8969233e+00, -5.0905666e+00,\n",
       "               1.6920902e+00,  3.4455264e+00,  1.0603800e+00,  1.8390402e+00,\n",
       "              -1.8862085e+00,  3.3167667e+00,  1.1862099e+00,  4.8830166e+00,\n",
       "               1.8039335e+00,  2.2032135e+00, -1.0315667e+00,  2.7241733e+00,\n",
       "              -4.3748999e+00, -4.3124359e-02,  6.3644996e+00, -4.3666661e-01,\n",
       "               4.3273672e-01, -2.8660667e+00, -1.7516333e+00, -1.9343667e-01,\n",
       "               2.0609667e+00,  2.0901668e+00,  2.6701337e-01,  2.1959665e+00,\n",
       "               3.3111401e+00, -2.3264334e+00, -1.7344999e+00,  3.1128165e-01,\n",
       "               4.8800669e+00,  1.9311833e+00,  2.8891251e+00,  1.3931633e+00,\n",
       "               5.5226666e-01,  1.8504400e+00,  4.3211503e+00, -1.8208669e-01,\n",
       "               3.4260666e+00, -2.9714668e+00, -1.3871866e+00, -1.8878001e+00,\n",
       "              -1.2543334e+00, -4.7794333e-01, -3.1046231e+00,  6.2532334e+00],\n",
       "             dtype=float32)                                                   ],\n",
       "      dtype=object)"
      ]
     },
     "execution_count": 24,
     "metadata": {},
     "output_type": "execute_result"
    }
   ],
   "source": [
    "X_train"
   ]
  },
  {
   "cell_type": "code",
   "execution_count": 25,
   "id": "ffce2004",
   "metadata": {
    "collapsed": true
   },
   "outputs": [
    {
     "data": {
      "text/plain": [
       "array([[-0.919615  ,  0.03644336, -3.7814999 , ..., -0.360715  ,\n",
       "        -2.93429   ,  0.04947497],\n",
       "       [-0.72953326,  2.4088235 , -2.6129668 , ...,  2.3154333 ,\n",
       "        -1.2391833 ,  7.5864334 ],\n",
       "       [ 0.07358   , -0.88712996, -2.3459    , ...,  2.4633    ,\n",
       "        -6.0582    ,  4.4717503 ],\n",
       "       ...,\n",
       "       [-1.3278867 , -1.1612867 , -2.0342333 , ...,  1.7158667 ,\n",
       "        -3.3866832 ,  5.1788    ],\n",
       "       [-1.545145  , -0.570495  , -0.81775   , ..., -1.8491999 ,\n",
       "        -0.57046497,  0.52043504],\n",
       "       [-1.1637334 ,  1.4053568 , -0.77704   , ..., -0.47794333,\n",
       "        -3.104623  ,  6.2532334 ]], dtype=float32)"
      ]
     },
     "execution_count": 25,
     "metadata": {},
     "output_type": "execute_result"
    }
   ],
   "source": [
    "#from above we can see that the X data is not a 2D np array and we will need to convert it to enable us to train our models\n",
    "\n",
    "X_train_2d = np.stack(X_train)\n",
    "X_test_2d = np.stack(X_test)\n",
    "\n",
    "X_train_2d"
   ]
  },
  {
   "cell_type": "markdown",
   "id": "023578b6",
   "metadata": {},
   "source": [
    "###  Step 3. Model Building"
   ]
  },
  {
   "cell_type": "code",
   "execution_count": 27,
   "id": "079cbec2",
   "metadata": {},
   "outputs": [],
   "source": [
    "\n",
    "from sklearn.linear_model import LogisticRegression\n",
    "from sklearn.neighbors import KNeighborsClassifier\n",
    "from sklearn.naive_bayes import MultinomialNB\n",
    "from sklearn.model_selection import GridSearchCV\n",
    "from sklearn.preprocessing import MinMaxScaler"
   ]
  },
  {
   "cell_type": "code",
   "execution_count": 28,
   "id": "1f850e4a",
   "metadata": {},
   "outputs": [],
   "source": [
    "#we will need to scale the training and test data to enable us use the naive_bayes classifier\n",
    "scaler = MinMaxScaler()\n",
    "X_train_scaled = scaler.fit_transform(X_train_2d)\n",
    "X_test_scaled = scaler.transform(X_test_2d)"
   ]
  },
  {
   "cell_type": "code",
   "execution_count": 29,
   "id": "e6c884ef",
   "metadata": {},
   "outputs": [
    {
     "data": {
      "text/html": [
       "<style>#sk-container-id-1 {color: black;background-color: white;}#sk-container-id-1 pre{padding: 0;}#sk-container-id-1 div.sk-toggleable {background-color: white;}#sk-container-id-1 label.sk-toggleable__label {cursor: pointer;display: block;width: 100%;margin-bottom: 0;padding: 0.3em;box-sizing: border-box;text-align: center;}#sk-container-id-1 label.sk-toggleable__label-arrow:before {content: \"▸\";float: left;margin-right: 0.25em;color: #696969;}#sk-container-id-1 label.sk-toggleable__label-arrow:hover:before {color: black;}#sk-container-id-1 div.sk-estimator:hover label.sk-toggleable__label-arrow:before {color: black;}#sk-container-id-1 div.sk-toggleable__content {max-height: 0;max-width: 0;overflow: hidden;text-align: left;background-color: #f0f8ff;}#sk-container-id-1 div.sk-toggleable__content pre {margin: 0.2em;color: black;border-radius: 0.25em;background-color: #f0f8ff;}#sk-container-id-1 input.sk-toggleable__control:checked~div.sk-toggleable__content {max-height: 200px;max-width: 100%;overflow: auto;}#sk-container-id-1 input.sk-toggleable__control:checked~label.sk-toggleable__label-arrow:before {content: \"▾\";}#sk-container-id-1 div.sk-estimator input.sk-toggleable__control:checked~label.sk-toggleable__label {background-color: #d4ebff;}#sk-container-id-1 div.sk-label input.sk-toggleable__control:checked~label.sk-toggleable__label {background-color: #d4ebff;}#sk-container-id-1 input.sk-hidden--visually {border: 0;clip: rect(1px 1px 1px 1px);clip: rect(1px, 1px, 1px, 1px);height: 1px;margin: -1px;overflow: hidden;padding: 0;position: absolute;width: 1px;}#sk-container-id-1 div.sk-estimator {font-family: monospace;background-color: #f0f8ff;border: 1px dotted black;border-radius: 0.25em;box-sizing: border-box;margin-bottom: 0.5em;}#sk-container-id-1 div.sk-estimator:hover {background-color: #d4ebff;}#sk-container-id-1 div.sk-parallel-item::after {content: \"\";width: 100%;border-bottom: 1px solid gray;flex-grow: 1;}#sk-container-id-1 div.sk-label:hover label.sk-toggleable__label {background-color: #d4ebff;}#sk-container-id-1 div.sk-serial::before {content: \"\";position: absolute;border-left: 1px solid gray;box-sizing: border-box;top: 0;bottom: 0;left: 50%;z-index: 0;}#sk-container-id-1 div.sk-serial {display: flex;flex-direction: column;align-items: center;background-color: white;padding-right: 0.2em;padding-left: 0.2em;position: relative;}#sk-container-id-1 div.sk-item {position: relative;z-index: 1;}#sk-container-id-1 div.sk-parallel {display: flex;align-items: stretch;justify-content: center;background-color: white;position: relative;}#sk-container-id-1 div.sk-item::before, #sk-container-id-1 div.sk-parallel-item::before {content: \"\";position: absolute;border-left: 1px solid gray;box-sizing: border-box;top: 0;bottom: 0;left: 50%;z-index: -1;}#sk-container-id-1 div.sk-parallel-item {display: flex;flex-direction: column;z-index: 1;position: relative;background-color: white;}#sk-container-id-1 div.sk-parallel-item:first-child::after {align-self: flex-end;width: 50%;}#sk-container-id-1 div.sk-parallel-item:last-child::after {align-self: flex-start;width: 50%;}#sk-container-id-1 div.sk-parallel-item:only-child::after {width: 0;}#sk-container-id-1 div.sk-dashed-wrapped {border: 1px dashed gray;margin: 0 0.4em 0.5em 0.4em;box-sizing: border-box;padding-bottom: 0.4em;background-color: white;}#sk-container-id-1 div.sk-label label {font-family: monospace;font-weight: bold;display: inline-block;line-height: 1.2em;}#sk-container-id-1 div.sk-label-container {text-align: center;}#sk-container-id-1 div.sk-container {/* jupyter's `normalize.less` sets `[hidden] { display: none; }` but bootstrap.min.css set `[hidden] { display: none !important; }` so we also need the `!important` here to be able to override the default hidden behavior on the sphinx rendered scikit-learn.org. See: https://github.com/scikit-learn/scikit-learn/issues/21755 */display: inline-block !important;position: relative;}#sk-container-id-1 div.sk-text-repr-fallback {display: none;}</style><div id=\"sk-container-id-1\" class=\"sk-top-container\"><div class=\"sk-text-repr-fallback\"><pre>MultinomialNB()</pre><b>In a Jupyter environment, please rerun this cell to show the HTML representation or trust the notebook. <br />On GitHub, the HTML representation is unable to render, please try loading this page with nbviewer.org.</b></div><div class=\"sk-container\" hidden><div class=\"sk-item\"><div class=\"sk-estimator sk-toggleable\"><input class=\"sk-toggleable__control sk-hidden--visually\" id=\"sk-estimator-id-1\" type=\"checkbox\" checked><label for=\"sk-estimator-id-1\" class=\"sk-toggleable__label sk-toggleable__label-arrow\">MultinomialNB</label><div class=\"sk-toggleable__content\"><pre>MultinomialNB()</pre></div></div></div></div></div>"
      ],
      "text/plain": [
       "MultinomialNB()"
      ]
     },
     "execution_count": 29,
     "metadata": {},
     "output_type": "execute_result"
    }
   ],
   "source": [
    "clf = MultinomialNB()\n",
    "clf.fit(X_train_scaled, y_train)"
   ]
  },
  {
   "cell_type": "code",
   "execution_count": 30,
   "id": "e07c2d1b",
   "metadata": {},
   "outputs": [
    {
     "name": "stdout",
     "output_type": "stream",
     "text": [
      "0.8218365359071992\n",
      "              precision    recall  f1-score   support\n",
      "\n",
      "           0       0.75      0.97      0.84      5585\n",
      "           1       0.96      0.68      0.79      5708\n",
      "\n",
      "    accuracy                           0.82     11293\n",
      "   macro avg       0.85      0.82      0.82     11293\n",
      "weighted avg       0.85      0.82      0.82     11293\n",
      "\n"
     ]
    }
   ],
   "source": [
    "from sklearn.metrics import accuracy_score, classification_report\n",
    "\n",
    "y_pred = clf.predict(X_test_scaled)\n",
    "print(accuracy_score(y_test, y_pred))\n",
    "print(classification_report(y_test, y_pred))"
   ]
  },
  {
   "cell_type": "code",
   "execution_count": 31,
   "id": "3dd29c1b",
   "metadata": {},
   "outputs": [
    {
     "data": {
      "text/html": [
       "<style>#sk-container-id-2 {color: black;background-color: white;}#sk-container-id-2 pre{padding: 0;}#sk-container-id-2 div.sk-toggleable {background-color: white;}#sk-container-id-2 label.sk-toggleable__label {cursor: pointer;display: block;width: 100%;margin-bottom: 0;padding: 0.3em;box-sizing: border-box;text-align: center;}#sk-container-id-2 label.sk-toggleable__label-arrow:before {content: \"▸\";float: left;margin-right: 0.25em;color: #696969;}#sk-container-id-2 label.sk-toggleable__label-arrow:hover:before {color: black;}#sk-container-id-2 div.sk-estimator:hover label.sk-toggleable__label-arrow:before {color: black;}#sk-container-id-2 div.sk-toggleable__content {max-height: 0;max-width: 0;overflow: hidden;text-align: left;background-color: #f0f8ff;}#sk-container-id-2 div.sk-toggleable__content pre {margin: 0.2em;color: black;border-radius: 0.25em;background-color: #f0f8ff;}#sk-container-id-2 input.sk-toggleable__control:checked~div.sk-toggleable__content {max-height: 200px;max-width: 100%;overflow: auto;}#sk-container-id-2 input.sk-toggleable__control:checked~label.sk-toggleable__label-arrow:before {content: \"▾\";}#sk-container-id-2 div.sk-estimator input.sk-toggleable__control:checked~label.sk-toggleable__label {background-color: #d4ebff;}#sk-container-id-2 div.sk-label input.sk-toggleable__control:checked~label.sk-toggleable__label {background-color: #d4ebff;}#sk-container-id-2 input.sk-hidden--visually {border: 0;clip: rect(1px 1px 1px 1px);clip: rect(1px, 1px, 1px, 1px);height: 1px;margin: -1px;overflow: hidden;padding: 0;position: absolute;width: 1px;}#sk-container-id-2 div.sk-estimator {font-family: monospace;background-color: #f0f8ff;border: 1px dotted black;border-radius: 0.25em;box-sizing: border-box;margin-bottom: 0.5em;}#sk-container-id-2 div.sk-estimator:hover {background-color: #d4ebff;}#sk-container-id-2 div.sk-parallel-item::after {content: \"\";width: 100%;border-bottom: 1px solid gray;flex-grow: 1;}#sk-container-id-2 div.sk-label:hover label.sk-toggleable__label {background-color: #d4ebff;}#sk-container-id-2 div.sk-serial::before {content: \"\";position: absolute;border-left: 1px solid gray;box-sizing: border-box;top: 0;bottom: 0;left: 50%;z-index: 0;}#sk-container-id-2 div.sk-serial {display: flex;flex-direction: column;align-items: center;background-color: white;padding-right: 0.2em;padding-left: 0.2em;position: relative;}#sk-container-id-2 div.sk-item {position: relative;z-index: 1;}#sk-container-id-2 div.sk-parallel {display: flex;align-items: stretch;justify-content: center;background-color: white;position: relative;}#sk-container-id-2 div.sk-item::before, #sk-container-id-2 div.sk-parallel-item::before {content: \"\";position: absolute;border-left: 1px solid gray;box-sizing: border-box;top: 0;bottom: 0;left: 50%;z-index: -1;}#sk-container-id-2 div.sk-parallel-item {display: flex;flex-direction: column;z-index: 1;position: relative;background-color: white;}#sk-container-id-2 div.sk-parallel-item:first-child::after {align-self: flex-end;width: 50%;}#sk-container-id-2 div.sk-parallel-item:last-child::after {align-self: flex-start;width: 50%;}#sk-container-id-2 div.sk-parallel-item:only-child::after {width: 0;}#sk-container-id-2 div.sk-dashed-wrapped {border: 1px dashed gray;margin: 0 0.4em 0.5em 0.4em;box-sizing: border-box;padding-bottom: 0.4em;background-color: white;}#sk-container-id-2 div.sk-label label {font-family: monospace;font-weight: bold;display: inline-block;line-height: 1.2em;}#sk-container-id-2 div.sk-label-container {text-align: center;}#sk-container-id-2 div.sk-container {/* jupyter's `normalize.less` sets `[hidden] { display: none; }` but bootstrap.min.css set `[hidden] { display: none !important; }` so we also need the `!important` here to be able to override the default hidden behavior on the sphinx rendered scikit-learn.org. See: https://github.com/scikit-learn/scikit-learn/issues/21755 */display: inline-block !important;position: relative;}#sk-container-id-2 div.sk-text-repr-fallback {display: none;}</style><div id=\"sk-container-id-2\" class=\"sk-top-container\"><div class=\"sk-text-repr-fallback\"><pre>KNeighborsClassifier(metric=&#x27;euclidean&#x27;)</pre><b>In a Jupyter environment, please rerun this cell to show the HTML representation or trust the notebook. <br />On GitHub, the HTML representation is unable to render, please try loading this page with nbviewer.org.</b></div><div class=\"sk-container\" hidden><div class=\"sk-item\"><div class=\"sk-estimator sk-toggleable\"><input class=\"sk-toggleable__control sk-hidden--visually\" id=\"sk-estimator-id-2\" type=\"checkbox\" checked><label for=\"sk-estimator-id-2\" class=\"sk-toggleable__label sk-toggleable__label-arrow\">KNeighborsClassifier</label><div class=\"sk-toggleable__content\"><pre>KNeighborsClassifier(metric=&#x27;euclidean&#x27;)</pre></div></div></div></div></div>"
      ],
      "text/plain": [
       "KNeighborsClassifier(metric='euclidean')"
      ]
     },
     "execution_count": 31,
     "metadata": {},
     "output_type": "execute_result"
    }
   ],
   "source": [
    "clf_KNN = KNeighborsClassifier(n_neighbors=5, metric='euclidean')\n",
    "clf_KNN.fit(X_train_scaled, y_train)"
   ]
  },
  {
   "cell_type": "code",
   "execution_count": 32,
   "id": "7a132bfa",
   "metadata": {},
   "outputs": [
    {
     "name": "stdout",
     "output_type": "stream",
     "text": [
      "0.8990525104046755\n",
      "              precision    recall  f1-score   support\n",
      "\n",
      "           0       0.92      0.87      0.89      5585\n",
      "           1       0.88      0.93      0.90      5708\n",
      "\n",
      "    accuracy                           0.90     11293\n",
      "   macro avg       0.90      0.90      0.90     11293\n",
      "weighted avg       0.90      0.90      0.90     11293\n",
      "\n"
     ]
    }
   ],
   "source": [
    "y_pred_KNN = clf_KNN.predict(X_test_scaled)\n",
    "print(accuracy_score(y_test, y_pred_KNN))\n",
    "print(classification_report(y_test, y_pred_KNN))"
   ]
  },
  {
   "cell_type": "markdown",
   "id": "a05bd5bb",
   "metadata": {},
   "source": [
    "using Gridsearch CV to find the better model and hyperparameters"
   ]
  },
  {
   "cell_type": "code",
   "execution_count": 34,
   "id": "e15a3682",
   "metadata": {},
   "outputs": [],
   "source": [
    "model_params = {\n",
    "    \n",
    "    'logistic_regression': {\n",
    "        'model': LogisticRegression(solver='liblinear', multi_class='auto'),\n",
    "        'params':{\n",
    "            'C': [1,5,7,10]\n",
    "        }\n",
    "    },\n",
    "    'KNN':{\n",
    "        'model':KNeighborsClassifier(),\n",
    "        'params':{\n",
    "            'n_neighbors' : [3,5,7],\n",
    "            'metric': ['euclidean']\n",
    "        }\n",
    "    }\n",
    "}"
   ]
  },
  {
   "cell_type": "code",
   "execution_count": 35,
   "id": "395b6213",
   "metadata": {},
   "outputs": [],
   "source": [
    "scores = []\n",
    "\n",
    "for model_name, mp in model_params.items():\n",
    "    clf = GridSearchCV(mp['model'], mp['params'], cv=5, return_train_score=False)\n",
    "    clf.fit(X_train_scaled, y_train)\n",
    "    scores.append({\n",
    "        'model': model_name,\n",
    "        'best_score': clf.best_score_,\n",
    "        'best_params': clf.best_params_\n",
    "    })"
   ]
  },
  {
   "cell_type": "code",
   "execution_count": 36,
   "id": "16d9cbfb",
   "metadata": {},
   "outputs": [
    {
     "data": {
      "text/plain": [
       "[{'model': 'logistic_regression',\n",
       "  'best_score': 0.9487946402810314,\n",
       "  'best_params': {'C': 7}},\n",
       " {'model': 'KNN',\n",
       "  'best_score': 0.8939806344328668,\n",
       "  'best_params': {'metric': 'euclidean', 'n_neighbors': 5}}]"
      ]
     },
     "execution_count": 36,
     "metadata": {},
     "output_type": "execute_result"
    }
   ],
   "source": [
    "scores"
   ]
  },
  {
   "cell_type": "markdown",
   "id": "b367a7aa",
   "metadata": {},
   "source": [
    "From the above we can see that logistic regression presents the most accurate model so far"
   ]
  },
  {
   "cell_type": "code",
   "execution_count": 37,
   "id": "302546e0",
   "metadata": {},
   "outputs": [
    {
     "data": {
      "text/html": [
       "<style>#sk-container-id-3 {color: black;background-color: white;}#sk-container-id-3 pre{padding: 0;}#sk-container-id-3 div.sk-toggleable {background-color: white;}#sk-container-id-3 label.sk-toggleable__label {cursor: pointer;display: block;width: 100%;margin-bottom: 0;padding: 0.3em;box-sizing: border-box;text-align: center;}#sk-container-id-3 label.sk-toggleable__label-arrow:before {content: \"▸\";float: left;margin-right: 0.25em;color: #696969;}#sk-container-id-3 label.sk-toggleable__label-arrow:hover:before {color: black;}#sk-container-id-3 div.sk-estimator:hover label.sk-toggleable__label-arrow:before {color: black;}#sk-container-id-3 div.sk-toggleable__content {max-height: 0;max-width: 0;overflow: hidden;text-align: left;background-color: #f0f8ff;}#sk-container-id-3 div.sk-toggleable__content pre {margin: 0.2em;color: black;border-radius: 0.25em;background-color: #f0f8ff;}#sk-container-id-3 input.sk-toggleable__control:checked~div.sk-toggleable__content {max-height: 200px;max-width: 100%;overflow: auto;}#sk-container-id-3 input.sk-toggleable__control:checked~label.sk-toggleable__label-arrow:before {content: \"▾\";}#sk-container-id-3 div.sk-estimator input.sk-toggleable__control:checked~label.sk-toggleable__label {background-color: #d4ebff;}#sk-container-id-3 div.sk-label input.sk-toggleable__control:checked~label.sk-toggleable__label {background-color: #d4ebff;}#sk-container-id-3 input.sk-hidden--visually {border: 0;clip: rect(1px 1px 1px 1px);clip: rect(1px, 1px, 1px, 1px);height: 1px;margin: -1px;overflow: hidden;padding: 0;position: absolute;width: 1px;}#sk-container-id-3 div.sk-estimator {font-family: monospace;background-color: #f0f8ff;border: 1px dotted black;border-radius: 0.25em;box-sizing: border-box;margin-bottom: 0.5em;}#sk-container-id-3 div.sk-estimator:hover {background-color: #d4ebff;}#sk-container-id-3 div.sk-parallel-item::after {content: \"\";width: 100%;border-bottom: 1px solid gray;flex-grow: 1;}#sk-container-id-3 div.sk-label:hover label.sk-toggleable__label {background-color: #d4ebff;}#sk-container-id-3 div.sk-serial::before {content: \"\";position: absolute;border-left: 1px solid gray;box-sizing: border-box;top: 0;bottom: 0;left: 50%;z-index: 0;}#sk-container-id-3 div.sk-serial {display: flex;flex-direction: column;align-items: center;background-color: white;padding-right: 0.2em;padding-left: 0.2em;position: relative;}#sk-container-id-3 div.sk-item {position: relative;z-index: 1;}#sk-container-id-3 div.sk-parallel {display: flex;align-items: stretch;justify-content: center;background-color: white;position: relative;}#sk-container-id-3 div.sk-item::before, #sk-container-id-3 div.sk-parallel-item::before {content: \"\";position: absolute;border-left: 1px solid gray;box-sizing: border-box;top: 0;bottom: 0;left: 50%;z-index: -1;}#sk-container-id-3 div.sk-parallel-item {display: flex;flex-direction: column;z-index: 1;position: relative;background-color: white;}#sk-container-id-3 div.sk-parallel-item:first-child::after {align-self: flex-end;width: 50%;}#sk-container-id-3 div.sk-parallel-item:last-child::after {align-self: flex-start;width: 50%;}#sk-container-id-3 div.sk-parallel-item:only-child::after {width: 0;}#sk-container-id-3 div.sk-dashed-wrapped {border: 1px dashed gray;margin: 0 0.4em 0.5em 0.4em;box-sizing: border-box;padding-bottom: 0.4em;background-color: white;}#sk-container-id-3 div.sk-label label {font-family: monospace;font-weight: bold;display: inline-block;line-height: 1.2em;}#sk-container-id-3 div.sk-label-container {text-align: center;}#sk-container-id-3 div.sk-container {/* jupyter's `normalize.less` sets `[hidden] { display: none; }` but bootstrap.min.css set `[hidden] { display: none !important; }` so we also need the `!important` here to be able to override the default hidden behavior on the sphinx rendered scikit-learn.org. See: https://github.com/scikit-learn/scikit-learn/issues/21755 */display: inline-block !important;position: relative;}#sk-container-id-3 div.sk-text-repr-fallback {display: none;}</style><div id=\"sk-container-id-3\" class=\"sk-top-container\"><div class=\"sk-text-repr-fallback\"><pre>LogisticRegression(C=7, solver=&#x27;liblinear&#x27;)</pre><b>In a Jupyter environment, please rerun this cell to show the HTML representation or trust the notebook. <br />On GitHub, the HTML representation is unable to render, please try loading this page with nbviewer.org.</b></div><div class=\"sk-container\" hidden><div class=\"sk-item\"><div class=\"sk-estimator sk-toggleable\"><input class=\"sk-toggleable__control sk-hidden--visually\" id=\"sk-estimator-id-3\" type=\"checkbox\" checked><label for=\"sk-estimator-id-3\" class=\"sk-toggleable__label sk-toggleable__label-arrow\">LogisticRegression</label><div class=\"sk-toggleable__content\"><pre>LogisticRegression(C=7, solver=&#x27;liblinear&#x27;)</pre></div></div></div></div></div>"
      ],
      "text/plain": [
       "LogisticRegression(C=7, solver='liblinear')"
      ]
     },
     "execution_count": 37,
     "metadata": {},
     "output_type": "execute_result"
    }
   ],
   "source": [
    "model = LogisticRegression(solver='liblinear', multi_class = 'auto', C = 7)\n",
    "model.fit(X_train_scaled, y_train)"
   ]
  },
  {
   "cell_type": "code",
   "execution_count": 38,
   "id": "921b16cc",
   "metadata": {},
   "outputs": [
    {
     "name": "stdout",
     "output_type": "stream",
     "text": [
      "              precision    recall  f1-score   support\n",
      "\n",
      "           0       0.94      0.95      0.95      5585\n",
      "           1       0.95      0.94      0.95      5708\n",
      "\n",
      "    accuracy                           0.95     11293\n",
      "   macro avg       0.95      0.95      0.95     11293\n",
      "weighted avg       0.95      0.95      0.95     11293\n",
      "\n"
     ]
    }
   ],
   "source": [
    "y_pred_log = model.predict(X_test_scaled)\n",
    "print(classification_report(y_test, y_pred_log))"
   ]
  },
  {
   "cell_type": "code",
   "execution_count": 43,
   "id": "468bce51",
   "metadata": {},
   "outputs": [
    {
     "data": {
      "text/plain": [
       "0"
      ]
     },
     "execution_count": 43,
     "metadata": {},
     "output_type": "execute_result"
    }
   ],
   "source": [
    "model.predict(scaler.transform(vectorizer('trash').vector.reshape(1,300))).item()"
   ]
  },
  {
   "cell_type": "code",
   "execution_count": 40,
   "id": "e2492749",
   "metadata": {},
   "outputs": [],
   "source": [
    "#pickling out model \n",
    "with open ('model_spc.pickle', 'wb') as f:\n",
    "    pickle.dump(model,f)"
   ]
  },
  {
   "cell_type": "code",
   "execution_count": 41,
   "id": "00996249",
   "metadata": {},
   "outputs": [],
   "source": [
    "#pickling our vectorizer\n",
    "with open('spacy_vec.pickle','wb') as f:\n",
    "    pickle.dump(vectorizer,f)"
   ]
  },
  {
   "cell_type": "code",
   "execution_count": 42,
   "id": "102a3af7",
   "metadata": {},
   "outputs": [],
   "source": [
    "with open ('mm_scaler.pickle', 'wb') as f:\n",
    "    pickle.dump(scaler,f)"
   ]
  },
  {
   "cell_type": "code",
   "execution_count": null,
   "id": "2c26ead1",
   "metadata": {},
   "outputs": [],
   "source": []
  }
 ],
 "metadata": {
  "kernelspec": {
   "display_name": "Python 3 (ipykernel)",
   "language": "python",
   "name": "python3"
  },
  "language_info": {
   "codemirror_mode": {
    "name": "ipython",
    "version": 3
   },
   "file_extension": ".py",
   "mimetype": "text/x-python",
   "name": "python",
   "nbconvert_exporter": "python",
   "pygments_lexer": "ipython3",
   "version": "3.8.13"
  }
 },
 "nbformat": 4,
 "nbformat_minor": 5
}
